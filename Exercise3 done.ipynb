{
 "metadata": {
  "name": "",
  "signature": "sha256:95eed3feb7c982a3b7c0e80481200941051044c58321dffd4fb8f8e3c8da70b0"
 },
 "nbformat": 3,
 "nbformat_minor": 0,
 "worksheets": [
  {
   "cells": [
    {
     "cell_type": "code",
     "collapsed": false,
     "input": [
      "%matplotlib inline\n",
      "import numpy as np\n",
      "from matplotlib import pyplot as plt"
     ],
     "language": "python",
     "metadata": {},
     "outputs": [],
     "prompt_number": 2
    },
    {
     "cell_type": "markdown",
     "metadata": {},
     "source": [
      "#Part I: Scipy's fmin\n",
      "\n",
      "Even though I'm teaching you how to do gradient descent but in real life just use the package.\n",
      "\n",
      "Let me give you an example on how to use it.\n",
      "\n",
      "Read the doc too.\n"
     ]
    },
    {
     "cell_type": "code",
     "collapsed": false,
     "input": [
      "from scipy.optimize import fmin\n",
      "\n",
      "def a(x):\n",
      "    return (x[0]+3)**2 + (x[1]-1)**2\n",
      "\n",
      "fmin(a, [3,1])"
     ],
     "language": "python",
     "metadata": {},
     "outputs": [
      {
       "output_type": "stream",
       "stream": "stdout",
       "text": [
        "Optimization terminated successfully.\n",
        "         Current function value: 0.000000\n",
        "         Iterations: 42\n",
        "         Function evaluations: 80\n"
       ]
      },
      {
       "metadata": {},
       "output_type": "pyout",
       "prompt_number": 3,
       "text": [
        "array([-2.99996702,  1.00000668])"
       ]
      }
     ],
     "prompt_number": 3
    },
    {
     "cell_type": "markdown",
     "metadata": {},
     "source": [
      "#Part II: Gradient Descent\n",
      "Now let us write it once in our life the gradient descent with supplied analytical gradient."
     ]
    },
    {
     "cell_type": "code",
     "collapsed": false,
     "input": [
      "\n",
      "def g(x):\n",
      "    return (x[0]+3)**2 + (x[1]-1)**2\n",
      "\n",
      "def dg(x):\n",
      "    return np.array([2*(x[0]+3), 2*(x[1]-1)])\n",
      "\n",
      "def minimize(grad, start, eta):\n",
      "    for i in range (0,10000):\n",
      "        start=start-(eta*grad)\n",
      "        grad=dg(start)\n",
      "    return start\n",
      "startPT=[0,0]\n",
      "myResult=minimize(dg(startPT),startPT,0.01)\n",
      "print myResult"
     ],
     "language": "python",
     "metadata": {},
     "outputs": [
      {
       "output_type": "stream",
       "stream": "stdout",
       "text": [
        "[-3.  1.]\n"
       ]
      }
     ],
     "prompt_number": 4
    },
    {
     "cell_type": "markdown",
     "metadata": {},
     "source": [
      "#Part III: Linear Regression I: Condo price\n",
      "\n",
      "I have data file called `condo_price.csv` which contains the price of condominium and the area for each condo. Tell me what should I be expected to pay for a condo of 40 square meter.\n",
      "\n",
      "Hint: x[:,None] turns [1,2,3] into [[1],[2],[3]]\n",
      "\n",
      "You may use fmin if you want."
     ]
    },
    {
     "cell_type": "code",
     "collapsed": false,
     "input": [
      "#Suggestion\n",
      "from scipy.optimize import fmin\n",
      "import numpy as np\n",
      "from matplotlib import pyplot as plt\n",
      "def hw(w,x):\n",
      "        return np.dot(w,x)\n",
      "class LinearRegression:\n",
      "    def __init__(self, x, y):\n",
      "        self.px = np.zeros((x.shape[0], x.shape[1]+1))\n",
      "        print x.shape[0]\n",
      "        self.px[:,:] = 1\n",
      "        self.px[:,1:] = x\n",
      "        self.y = y\n",
      "        self.ndata = len(self.px)\n",
      "        self.nfeature = self.px.shape[1]\n",
      "    \n",
      "    def cost(self, w):\n",
      "        ndata = self.ndata\n",
      "        x=self.px\n",
      "        y=self.y\n",
      "        return ((hw(w, x[0]) - y[0])**2 + (hw(w, x[1]) - y[1])**2 + (hw(w, x[2]) - y[2])**2 + (hw(w, x[3]) - y[3])**2 + (hw(w, x[4]) - y[4])**2 + (hw(w, x[5]) - y[5])**2 + (hw(w, x[6]) - y[6])**2 + (hw(w, x[7]) - y[7])**2 + (hw(w, x[8]) - y[8])**2 + (hw(w, x[9]) - y[9])**2 + (hw(w, x[10]) - y[10])**2 + (hw(w, x[11]) - y[11])**2 + (hw(w, x[12]) - y[12])**2 + (hw(w, x[13]) - y[13])**2 + (hw(w, x[14]) - y[14])**2 + (hw(w, x[15]) - y[15])**2 + (hw(w, x[16]) - y[16])**2 + (hw(w, x[17]) - y[17])**2 + (hw(w, x[18]) - y[18])**2 + (hw(w, x[19]) - y[19])**2)\n",
      "       \n",
      "    def draw(self,weight):\n",
      "        y=[]\n",
      "        for i in self.px:\n",
      "            y.append(np.dot(weight,i));\n",
      "        \n",
      "        \n",
      "        return y\n",
      "    def cal(self,weight,integer):\n",
      "        y=weight[0]+(weight[1]*integer)\n",
      "        return y\n",
      "   \n",
      "\n",
      "D = np.loadtxt(\"condo_price.csv\", delimiter=',' )\n",
      "price = D[:,0]\n",
      "area = D[:,1]\n",
      "l = LinearRegression(area[:,None], price)\n",
      "\n",
      "weight=[]\n",
      "weight=fmin(l.cost, [0,0])\n",
      "\n",
      "y=l.draw(weight)\n",
      "print weight\n",
      "plt.plot(area, price,'ro')\n",
      "\n",
      "plt.plot(area,y)\n",
      "print l.cal(weight,40)\n",
      "\n"
     ],
     "language": "python",
     "metadata": {},
     "outputs": [
      {
       "output_type": "stream",
       "stream": "stdout",
       "text": [
        "20\n",
        "Optimization terminated successfully.\n",
        "         Current function value: 0.005828\n",
        "         Iterations: 28\n",
        "         Function evaluations: 55\n",
        "[ 0.01522188  0.08162364]\n",
        "3.28016752012"
       ]
      },
      {
       "output_type": "stream",
       "stream": "stdout",
       "text": [
        "\n"
       ]
      },
      {
       "metadata": {},
       "output_type": "display_data",
       "png": "[encoded data removed]",
       "text": [
        "<matplotlib.figure.Figure at 0x14281eb8>"
       ]
      }
     ],
     "prompt_number": 39
    },
    {
     "cell_type": "markdown",
     "metadata": {},
     "source": [
      "#Part III: House price.\n",
      "Now we will be doing something a bit more complicated than condominium. The house price depends not just on the area, but the number of bathroom, number of bed room etc.\n",
      "\n",
      "See `house_price.csv`\n",
      "\n",
      "Now tell me what should I pay for 40 sqm. house with 2 bed and 2 bath room?\n",
      "\n",
      "Do whatever your need. Finish it at home if needed."
     ]
    },
    {
     "cell_type": "code",
     "collapsed": false,
     "input": [
      "#Suggestion\n",
      "from scipy.optimize import fmin\n",
      "import numpy as np\n",
      "from matplotlib import pyplot as plt\n",
      "def hw(w,x):\n",
      "        return np.dot(w,x)\n",
      "class LinearRegression:\n",
      "    def __init__(self, x, y):\n",
      "        self.px = np.zeros((x.shape[0], x.shape[1]+1))\n",
      "        self.px[:,0] = 1\n",
      "        self.px[:,1:] = x\n",
      "        \n",
      "        self.y = y\n",
      "        self.ndata = len(self.px)\n",
      "        self.nfeature = self.px.shape[1]\n",
      "    \n",
      "    def cost(self, w):\n",
      "        ndata = self.ndata\n",
      "        x=self.px\n",
      "        y=self.y\n",
      "        return ((hw(w, x[0]) - y[0])**2 + (hw(w, x[1]) - y[1])**2 + (hw(w, x[2]) - y[2])**2 + (hw(w, x[3]) - y[3])**2 + (hw(w, x[4]) - y[4])**2 + (hw(w, x[5]) - y[5])**2 + (hw(w, x[6]) - y[6])**2 + (hw(w, x[7]) - y[7])**2 + (hw(w, x[8]) - y[8])**2 + (hw(w, x[9]) - y[9])**2 + (hw(w, x[10]) - y[10])**2 + (hw(w, x[11]) - y[11])**2 + (hw(w, x[12]) - y[12])**2 + (hw(w, x[13]) - y[13])**2 + (hw(w, x[14]) - y[14])**2 + (hw(w, x[15]) - y[15])**2 + (hw(w, x[16]) - y[16])**2 + (hw(w, x[17]) - y[17])**2 + (hw(w, x[18]) - y[18])**2 + (hw(w, x[19]) - y[19])**2)\n",
      "\n",
      "    def cal(self,weight,xs):\n",
      "        y=np.dot(weight,xs)\n",
      "        return y\n",
      "   \n",
      "\n",
      "D = np.loadtxt(\"house_price.csv\", delimiter=',' )\n",
      "price = D[:,0]\n",
      "area = D[:,1:]\n",
      "\n",
      "l = LinearRegression(area, price)\n",
      "\n",
      "weight=[]\n",
      "weight=fmin(l.cost, [0,0,0,0])\n",
      "expectX =[1,40,2,2]\n",
      "\n",
      "print l.cal(weight,expectX)\n",
      "\n"
     ],
     "language": "python",
     "metadata": {},
     "outputs": [
      {
       "output_type": "stream",
       "stream": "stdout",
       "text": [
        "Optimization terminated successfully.\n",
        "         Current function value: 0.181657\n",
        "         Iterations: 234\n",
        "         Function evaluations: 404\n",
        "5.18524573406\n"
       ]
      }
     ],
     "prompt_number": 59
    },
    {
     "cell_type": "code",
     "collapsed": false,
     "input": [],
     "language": "python",
     "metadata": {},
     "outputs": []
    }
   ],
   "metadata": {}
  }
 ]
}