{
 "cells": [
  {
   "cell_type": "code",
   "execution_count": 59,
   "metadata": {
    "collapsed": true
   },
   "outputs": [],
   "source": [
    "import numpy as np\n",
    "from scipy.optimize import minimize\n",
    "import csv"
   ]
  },
  {
   "cell_type": "markdown",
   "metadata": {},
   "source": [
    "this bloc is for preparing the data matrix has_rating[i,j] 1 if a paticular user has rated a particular movie, 0 otherwise\n",
    "rating[i,j] real rating that given by particular users **value exist if and only if coresponding has_rating[i,j]==1\n",
    "number of users can be optain by len(names) and number of restaurants can be optain by len(restaurants)"
   ]
  },
  {
   "cell_type": "code",
   "execution_count": 60,
   "metadata": {
    "collapsed": false
   },
   "outputs": [
    {
     "name": "stdout",
     "output_type": "stream",
     "text": [
      "name ['Alice', 'Bob', 'Carol', 'Dave']\n",
      "restaurants 5\n",
      "has_rating [[ 1.  1.  1.  1.]\n",
      " [ 1.  0.  0.  1.]\n",
      " [ 0.  1.  1.  0.]\n",
      " [ 1.  1.  1.  1.]\n",
      " [ 1.  1.  1.  0.]]\n",
      "rating [[ 5.  5.  0.  0.]\n",
      " [ 5.  0.  0.  0.]\n",
      " [ 0.  4.  0.  0.]\n",
      " [ 0.  0.  5.  4.]\n",
      " [ 0.  0.  5.  0.]]\n"
     ]
    }
   ],
   "source": [
    "import StringIO\n",
    "import csv\n",
    "with open('Untitled spreadsheet - Sheet1.csv') as f:\n",
    "    s = StringIO.StringIO(f.read()) \n",
    "    reader = csv.reader(s, delimiter=',')\n",
    "    raw = [row for row in reader]\n",
    "\n",
    "def get_names(raw):\n",
    "    return raw[2][2:]\n",
    "\n",
    "def get_restaurant(raw):\n",
    "    restaurants = []\n",
    "    for i in range(3, len(raw)):\n",
    "        restaurants.append(raw[i][1])\n",
    "    return restaurants\n",
    "\n",
    "def get_rating(raw):\n",
    "    \n",
    "    names = get_names(raw)\n",
    "    restaurants = get_restaurant(raw)\n",
    "    name_offset = 2\n",
    "    rests_offset = 3\n",
    "    \n",
    "    n_names = len(names)\n",
    "    n_rests = len(restaurants)\n",
    "\n",
    "    has_rating = np.zeros((n_names, n_rests))\n",
    "    rating = np.zeros((n_names, n_rests))\n",
    "    \n",
    "    for ir in range(n_rests):\n",
    "        \n",
    "        this_row = raw[rests_offset + ir]\n",
    "\n",
    "        for ip in range(n_names):\n",
    "            \n",
    "            this_cell =  this_row[name_offset + ip]\n",
    "            hr = this_cell.isdigit()\n",
    "            has_rating[ip, ir] = 1 if hr else 0\n",
    "            if hr:\n",
    "                rating[ip, ir] = int(this_cell)\n",
    "                \n",
    "    return names, restaurants, has_rating, rating\n",
    "\n",
    "names, restaurants, has_rating, rating = get_rating(raw)\n",
    "\n",
    "print \"name\", names\n",
    "print \"restaurants\", len(restaurants)\n",
    "print \"has_rating\", has_rating.T\n",
    "print \"rating\", rating.T\n",
    "\n"
   ]
  },
  {
   "cell_type": "code",
   "execution_count": null,
   "metadata": {
    "collapsed": true
   },
   "outputs": [],
   "source": [
    "big_theta is when we assume the users have given thier preferences to us "
   ]
  },
  {
   "cell_type": "code",
   "execution_count": 61,
   "metadata": {
    "collapsed": false
   },
   "outputs": [
    {
     "name": "stdout",
     "output_type": "stream",
     "text": [
      "[[ 5.  0.]\n",
      " [ 5.  0.]\n",
      " [ 0.  5.]\n",
      " [ 0.  5.]]\n"
     ]
    }
   ],
   "source": [
    "big_theta = np.array([[5.,0],[5.,0],[0.,5],[0.,5]])\n",
    "print big_theta"
   ]
  },
  {
   "cell_type": "code",
   "execution_count": 62,
   "metadata": {
    "collapsed": false
   },
   "outputs": [
    {
     "name": "stdout",
     "output_type": "stream",
     "text": [
      "[[ 0.96570726  1.92061005]\n",
      " [ 3.88883628  0.61401397]\n",
      " [ 4.29547688  0.87427473]\n",
      " [ 1.68578994  4.29676264]]\n",
      "[[ 0.94339274  0.26931349]\n",
      " [ 0.24965817  0.26871234]\n",
      " [ 0.55295264  0.59900796]\n",
      " [ 0.57406733  0.56648633]\n",
      " [ 0.44691802  0.37676754]]\n",
      "[[ 0.96570726  1.92061005]\n",
      " [ 3.88883628  0.61401397]\n",
      " [ 4.29547688  0.87427473]\n",
      " [ 1.68578994  4.29676264]\n",
      " [ 0.94339274  0.26931349]\n",
      " [ 0.24965817  0.26871234]\n",
      " [ 0.55295264  0.59900796]\n",
      " [ 0.57406733  0.56648633]\n",
      " [ 0.44691802  0.37676754]]\n",
      "[[ 1.54374648  0.31960245]\n",
      " [ 1.54374631  0.31960243]\n",
      " [-0.00386068  0.01856894]\n",
      " [-0.00308327  0.0148564 ]]\n",
      "[[   3.09950587    0.64176776]\n",
      " [   3.10567269    0.64339092]\n",
      " [   2.48459836    0.51442652]\n",
      " [ -53.44410759  258.14615255]\n",
      " [ -53.44537228  258.1522652 ]]\n",
      "output [[ 4.  4.  0.  0.]\n",
      " [ 5.  5.  0.  0.]\n",
      " [ 4.  4.  0.  0.]\n",
      " [ 0.  0.  4.  3.]\n",
      " [ 0.  0.  4.  4.]]\n"
     ]
    }
   ],
   "source": [
    "class LinearRegression: \n",
    "    \n",
    "    # init all the data so it can easily accessed by all methods\n",
    "    def __init__(self,has_rating,real_rating,fea,lamda,big_x):\n",
    "        self.has_rating = has_rating\n",
    "        self.fea=fea\n",
    "        self.real_rating = real_rating\n",
    "        self.lamda=lamda\n",
    "        self.num_users = len(names)\n",
    "        self.num_restaurants = len(restaurants) \n",
    "        self.big_theta = big_theta\n",
    "    \n",
    "    # cost function use for minimizing  \n",
    "    def cost_finction(self,w):\n",
    "        \n",
    "        # 1/2 constant\n",
    "        con=float(1)/2\n",
    "        w = w.reshape(9,2)\n",
    "        #print w\n",
    "        \n",
    "        # set of all guessing theta values \n",
    "        theta = w[0:4][0:]\n",
    "        \n",
    "        #print \"t\",theta\n",
    "        #print \"x\",x\n",
    "             \n",
    "        # set of all guessing x values\n",
    "        x = w[4:9][0:]\n",
    "        # 3 summation variable in the equation   \n",
    "        sum_linear = 0\n",
    "        sum_theta = 0\n",
    "        sum_x = 0\n",
    "\n",
    "        # below here we will sum over all pairs (i,j) for which has_rating(i,j) == 1 \n",
    "        for i in range(0,len(restaurants)):\n",
    "            for j in range(0,len(names)):\n",
    "                if self.has_rating[i][j] == 1:\n",
    "                    #print self.big_theta[j].T.shape\n",
    "                    #print w[i].shape\n",
    "                    sum_linear = sum_linear + ((np.dot(theta[j].T,x[i]))-self.real_rating[i,j])**2 \n",
    "                    \n",
    "                \n",
    "        # below here we will sum over the nomalization terms for x(k)\n",
    "        # print self.fea\n",
    "        for i in range(0,len(restaurants)):\n",
    "            for k in range (0,self.fea):\n",
    "                sum_x = sum_x + (w[i][k]**2)\n",
    "        \n",
    "        # below here we will sum over the nomalization terms for theta(k)\n",
    "        for i in range(0,len(names)):\n",
    "            for k in range (0,self.fea):\n",
    "                sum_theta = sum_theta + (theta[i][k]**2)  \n",
    "        \n",
    "        return con*sum_linear+((float(self.lamda)/2)*sum_x)+((float(self.lamda)/2)*sum_theta)\n",
    "\n",
    "linear_obj = LinearRegression(has_rating.T,rating.T,2,0.01,big_theta)\n",
    "guess_theta = np.random.uniform(0,5,[4,2])\n",
    "print guess_theta\n",
    "guess_x = np.random.rand(5,2)\n",
    "print guess_x\n",
    "weight_value = np.concatenate((guess_theta,guess_x),axis=0)\n",
    "print weight_value\n",
    "minimize_weight = minimize(linear_obj.cost_finction,weight_value)\n",
    "\n",
    "new_w = minimize_weight.x.reshape(9,2)\n",
    "\n",
    "result_theta = new_w[0:4][0:]\n",
    "print result_theta\n",
    "result_x = new_w[4:9][0:]\n",
    "print result_x\n",
    "out = np.zeros((5,4))\n",
    "for i in range(0,len(restaurants)):\n",
    "            for j in range(0,len(names)):\n",
    "                    out[i][j] = int(np.dot(result_theta[j].T,result_x[i]))\n",
    "print \"output\",out"
   ]
  }
 ],
 "metadata": {
  "kernelspec": {
   "display_name": "Python 2",
   "language": "python",
   "name": "python2"
  },
  "language_info": {
   "codemirror_mode": {
    "name": "ipython",
    "version": 2
   },
   "file_extension": ".py",
   "mimetype": "text/x-python",
   "name": "python",
   "nbconvert_exporter": "python",
   "pygments_lexer": "ipython2",
   "version": "2.7.10"
  }
 },
 "nbformat": 4,
 "nbformat_minor": 0
}
