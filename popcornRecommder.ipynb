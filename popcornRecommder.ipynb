{
 "cells": [
  {
   "cell_type": "code",
   "execution_count": 351,
   "metadata": {
    "collapsed": false
   },
   "outputs": [],
   "source": [
    "import numpy as np\n",
    "from scipy.optimize import minimize\n",
    "np.set_printoptions(threshold='nan')"
   ]
  },
  {
   "cell_type": "markdown",
   "metadata": {},
   "source": [
    "## prepare data set\n",
    "    - this bloc is for preparing the data matrix has_rating[i,j] 1 if a paticular user has rated a particular movie, 0 otherwise. Rating[i,j] real is rating that given by particular users **value exist if and only if coresponding has_rating[i,j]==1\n",
    "    - number of users can be optain by len(names) and number of movies can be optain by len(movies)"
   ]
  },
  {
   "cell_type": "code",
   "execution_count": 352,
   "metadata": {
    "collapsed": false
   },
   "outputs": [
    {
     "name": "stdout",
     "output_type": "stream",
     "text": [
      "name ['Alice', 'Bob', 'Carol', 'Dave', 'eve', 'time']\n",
      "movies ['love', 'Romance', 'Cute', 'Nonstop', 'sword', 'iron man', 'the inturn']\n",
      "has_rating [[ 1.  1.  1.  1.  0.  0.]\n",
      " [ 1.  0.  0.  1.  0.  0.]\n",
      " [ 0.  1.  1.  0.  0.  0.]\n",
      " [ 1.  1.  1.  1.  0.  0.]\n",
      " [ 1.  1.  1.  0.  0.  1.]\n",
      " [ 0.  0.  0.  0.  1.  0.]\n",
      " [ 1.  0.  0.  1.  0.  1.]]\n",
      "rating [[ 5.  5.  0.  0.  0.  0.]\n",
      " [ 5.  0.  0.  0.  0.  0.]\n",
      " [ 0.  4.  0.  0.  0.  0.]\n",
      " [ 0.  0.  5.  4.  0.  0.]\n",
      " [ 0.  0.  5.  0.  0.  5.]\n",
      " [ 0.  0.  0.  0.  5.  0.]\n",
      " [ 3.  0.  0.  3.  0.  3.]]\n"
     ]
    }
   ],
   "source": [
    "import StringIO\n",
    "import csv\n",
    "with open('resource - Sheet1 (2).csv') as f:\n",
    "    s = StringIO.StringIO(f.read()) \n",
    "    reader = csv.reader(s, delimiter=',')\n",
    "    raw = [row for row in reader]\n",
    "\n",
    "def get_names(raw):\n",
    "    return raw[2][2:]\n",
    "\n",
    "def get_movies(raw):\n",
    "    movies = []\n",
    "    for i in range(3, len(raw)):\n",
    "        movies.append(raw[i][1])\n",
    "    return movies\n",
    "\n",
    "def get_rating(raw):\n",
    "    \n",
    "    names = get_names(raw)\n",
    "    movies = get_movies(raw)\n",
    "    name_offset = 2\n",
    "    movies_offset = 3\n",
    "    \n",
    "    n_names = len(names)\n",
    "    n_movies = len(movies)\n",
    "\n",
    "    has_rating = np.zeros((n_names, n_movies))\n",
    "    rating = np.zeros((n_names, n_movies))\n",
    "    \n",
    "    for ir in range(n_movies):\n",
    "        \n",
    "        this_row = raw[movies_offset + ir]\n",
    "\n",
    "        for ip in range(n_names):\n",
    "            \n",
    "            this_cell =  this_row[name_offset + ip]\n",
    "            hr = this_cell.isdigit()\n",
    "            has_rating[ip, ir] = 1 if hr else 0\n",
    "            if hr:\n",
    "                rating[ip, ir] = int(this_cell)\n",
    "                \n",
    "    return names, movies, has_rating, rating\n",
    "\n",
    "names, movies, has_rating, rating = get_rating(raw)\n",
    "\n",
    "print \"name\", names\n",
    "print \"movies\", movies\n",
    "print \"has_rating\", has_rating.T\n",
    "print \"rating\", rating.T"
   ]
  },
  {
   "cell_type": "markdown",
   "metadata": {},
   "source": [
    "## Implementation of Detail Mean Normalization\n",
    "    - the seection below here is implemented to handle the case of newly added user that has never rated any movie before \n",
    "    - notice that in our data set we have Eve who never rate any movie so we can think of her as newly added user"
   ]
  },
  {
   "cell_type": "code",
   "execution_count": 353,
   "metadata": {
    "collapsed": false
   },
   "outputs": [
    {
     "name": "stdout",
     "output_type": "stream",
     "text": [
      "[[ 2.5 ]\n",
      " [ 2.5 ]\n",
      " [ 2.  ]\n",
      " [ 2.25]\n",
      " [ 2.5 ]\n",
      " [ 5.  ]\n",
      " [ 3.  ]]\n"
     ]
    }
   ],
   "source": [
    "# init the average matrix\n",
    "average = np.zeros((len(movies),1))\n",
    "\n",
    "# find average value for each row \n",
    "for i in range (0,len(movies)):\n",
    "    sum_each_row = 0\n",
    "    count_num = 0\n",
    "    \n",
    "    for j in range (0,len(names)):\n",
    "        \n",
    "        if has_rating.T[i][j] == 1:\n",
    "            sum_each_row = sum_each_row + rating.T[i][j]\n",
    "            count_num = count_num+1\n",
    "            \n",
    "    average[i][0] = sum_each_row/count_num\n",
    "    \n",
    "print average"
   ]
  },
  {
   "cell_type": "markdown",
   "metadata": {},
   "source": [
    "# running data after Implementation of Detail Mean Normalization\n",
    "    - on the section below here we re-run our main again with the new rating matrix  "
   ]
  },
  {
   "cell_type": "code",
   "execution_count": 354,
   "metadata": {
    "collapsed": false
   },
   "outputs": [
    {
     "name": "stdout",
     "output_type": "stream",
     "text": [
      "original rating [[ 5.  5.  0.  0.  0.  0.]\n",
      " [ 5.  0.  0.  0.  0.  0.]\n",
      " [ 0.  4.  0.  0.  0.  0.]\n",
      " [ 0.  0.  5.  4.  0.  0.]\n",
      " [ 0.  0.  5.  0.  0.  5.]\n",
      " [ 0.  0.  0.  0.  5.  0.]\n",
      " [ 3.  0.  0.  3.  0.  3.]]\n",
      "rating after DMN [[ 2.5   2.5  -2.5  -2.5   0.    0.  ]\n",
      " [ 2.5   0.    0.   -2.5   0.    0.  ]\n",
      " [ 0.    2.   -2.    0.    0.    0.  ]\n",
      " [-2.25 -2.25  2.75  1.75  0.    0.  ]\n",
      " [-2.5  -2.5   2.5   0.    0.    2.5 ]\n",
      " [ 0.    0.    0.    0.    0.    0.  ]\n",
      " [ 0.    0.    0.    0.    0.    0.  ]]\n"
     ]
    }
   ],
   "source": [
    "print \"original rating\",rating.T\n",
    "\n",
    "# re-init value for rating matrix\n",
    "for i in range (0,len(movies)):\n",
    "    for j in range (0,len(names)):\n",
    "        if has_rating.T[i][j] == 1:\n",
    "            rating.T[i][j] = rating.T[i][j] - average[i]\n",
    "print \"rating after DMN\",rating.T "
   ]
  },
  {
   "cell_type": "markdown",
   "metadata": {},
   "source": [
    "## Getting the best weight\n",
    "    - start Linear Regression class below here"
   ]
  },
  {
   "cell_type": "code",
   "execution_count": 355,
   "metadata": {
    "collapsed": true
   },
   "outputs": [],
   "source": [
    "class LinearRegression: \n",
    "    \n",
    "     # init all the data so it can easily accessed by all methods\n",
    "    def __init__(self,has_rating,real_rating,fea,lamda,names,movies,theta,x):\n",
    "        \n",
    "        #has_rating and real_rating here are already transposed\n",
    "        self.has_rating = has_rating\n",
    "        self.real_rating = real_rating\n",
    "        self.fea=fea\n",
    "        self.lamda=lamda\n",
    "        self.names = names\n",
    "        self.movies = movies\n",
    "        self.num_names = len(names)\n",
    "        self.num_movies = len(movies) \n",
    "        self.theta = theta\n",
    "        self.x = x\n",
    "    \n",
    "    #this function is use to find the gradient value for x \n",
    "    def sum_x(self,i,k,lamda):\n",
    "        \n",
    "        sum_x_value = 0 \n",
    "        \n",
    "        for j in range (0,self.num_names):\n",
    "            if self.has_rating[i][j] == 1:\n",
    "                sum_x_value = sum_x_value+(np.dot(self.theta[j].T,self.x[i]) - self.real_rating[i][j])*self.theta[j][k]         \n",
    "        \n",
    "        return sum_x_value\n",
    "    \n",
    "    #this function is use to find the gradient value for theta\n",
    "    def sum_theta(self,j,k,lamda):\n",
    "        \n",
    "        sum_theta_value = 0\n",
    "        \n",
    "        for i in range (0,self.num_movies):\n",
    "            if self.has_rating[i][j] == 1:\n",
    "                sum_theta_value = sum_theta_value+(np.dot(self.theta[j].T,self.x[i]) - self.real_rating[i][j])*self.x[i][k]\n",
    "        \n",
    "        return sum_theta_value\n",
    "                \n",
    "                \n",
    "                \n",
    "                \n",
    "    #this function will seek for the x and thata that can meet the local minimum of the function\n",
    "    def gradient_descent(self,alpha,lamda):\n",
    "        \n",
    "        # init keep_array for both x and theta\n",
    "        keep_x = np.zeros((self.num_movies,self.fea))\n",
    "        keep_theta = np.zeros((self.num_names,self.fea))\n",
    "        keep_x = self.x\n",
    "        keep_theta = self.theta\n",
    "        \n",
    "        #for-loop here is used for allowing the convergent of gradient value\n",
    "        for times in range(0,10000):\n",
    "           \n",
    "            #re-assign value to self.x and self.theta\n",
    "            self.x = keep_x\n",
    "            self.theta = keep_theta\n",
    "            \n",
    "            #set the value of x\n",
    "            for i in range (0,self.num_movies):\n",
    "                for k in range (0,self.fea):\n",
    "                    \n",
    "                    keep_x[i][k] = self.x[i][k] - alpha*(self.sum_x(i,k,lamda)+lamda*self.x[i][k])\n",
    "                    \n",
    "            #set the value of theta\n",
    "            for j in range (0,self.num_names):\n",
    "                for k in range (0,self.fea):\n",
    "                    \n",
    "                    keep_theta[j][k] = self.theta[j][k] - alpha*(self.sum_theta(j,k,lamda)+lamda*self.theta[j][k])\n",
    "            \n",
    "            #every 10000 time we reduce the step size\n",
    "            if times == 9000:\n",
    "                alpha = alpha/10\n",
    "            \n",
    "        return self.x,self.theta"
   ]
  },
  {
   "cell_type": "markdown",
   "metadata": {},
   "source": [
    "## Calling linear regression class"
   ]
  },
  {
   "cell_type": "code",
   "execution_count": 356,
   "metadata": {
    "collapsed": false
   },
   "outputs": [
    {
     "name": "stdout",
     "output_type": "stream",
     "text": [
      "x [[  3.10302428e-01   3.24465495e-01  -2.45432524e-01   5.21045972e-01\n",
      "    1.46765705e+00]\n",
      " [  3.69491169e-01   2.12738941e-01  -1.96656445e-01   5.63715853e-01\n",
      "    1.45670053e+00]\n",
      " [  6.94871444e-02   6.18097406e-02  -1.42940317e-01   2.79027891e-01\n",
      "    1.22667074e+00]\n",
      " [  1.06296908e-02  -1.89754763e-01   5.78401728e-01   2.82143084e-01\n",
      "   -1.45930916e+00]\n",
      " [ -2.12273837e-02   4.91475891e-01   2.21890067e-01  -1.46248330e-01\n",
      "   -1.60757974e+00]\n",
      " [  5.43214101e-03   4.01998846e-03   8.90300031e-03  -1.46598555e-06\n",
      "    7.51314619e-04]\n",
      " [  1.21032453e-03   1.30786080e-04   2.72538092e-03  -1.27026244e-03\n",
      "    5.37307566e-04]]\n",
      "theta [[  2.31407248e-01   2.67856171e-02  -2.64626482e-01   3.10572673e-01\n",
      "    1.49393095e+00]\n",
      " [  9.89500755e-02   6.84944721e-02  -2.00934725e-01   3.26663062e-01\n",
      "    1.51672447e+00]\n",
      " [ -6.44595513e-02  -2.96679901e-01   5.86209227e-01   1.51451811e-01\n",
      "   -1.57826772e+00]\n",
      " [ -4.12805497e-01  -3.16979612e-01   1.00620944e-01  -7.32027491e-01\n",
      "   -1.26477490e+00]\n",
      " [  5.38684288e-04   2.01862671e-03  -1.39570181e-03   7.19114625e-03\n",
      "    1.86041644e-03]\n",
      " [  1.69964146e-02   4.88478846e-01   1.97047254e-01  -7.60104123e-02\n",
      "   -1.36648254e+00]]\n"
     ]
    }
   ],
   "source": [
    "#set the number of feature \n",
    "number_feature = 5\n",
    "\n",
    "#init small guessing value for both theta and x\n",
    "guess_theta = np.random.uniform(0.01,1,[len(names),number_feature])\n",
    "guess_x = np.random.uniform(0.01,1,[len(movies),number_feature])\n",
    "\n",
    "#get object from linear regression class\n",
    "linear_obj = LinearRegression(has_rating.T,rating.T,number_feature,0.01,names,movies,guess_theta,guess_x)\n",
    "\n",
    "#get return from gradient descent function (minimize x and minimize theta)\n",
    "result_x, result_theta = linear_obj.gradient_descent(0.05,0.01)\n",
    "\n",
    "#show them\n",
    "print \"x\", result_x\n",
    "print \"theta\", result_theta"
   ]
  },
  {
   "cell_type": "markdown",
   "metadata": {},
   "source": [
    "## Output array"
   ]
  },
  {
   "cell_type": "code",
   "execution_count": 357,
   "metadata": {
    "collapsed": false
   },
   "outputs": [
    {
     "name": "stdout",
     "output_type": "stream",
     "text": [
      "[[ 5.    5.    0.    0.01  2.51  0.57]\n",
      " [ 4.99  4.98  0.08  0.01  2.51  0.54]\n",
      " [ 3.97  3.99 -0.    0.18  2.    0.31]\n",
      " [ 0.    0.    4.99  4.    2.25  4.24]\n",
      " [ 0.    0.    5.    4.52  2.5   4.99]\n",
      " [ 5.    5.    5.    5.    5.    5.  ]\n",
      " [ 3.    3.    3.    3.    3.    3.  ]]\n"
     ]
    }
   ],
   "source": [
    "#out array is the final guessing value from minimize x and theta\n",
    "out = np.zeros((len(movies),len(names)))\n",
    "\n",
    "for i in range(0,len(movies)):\n",
    "            for j in range(0,len(names)):\n",
    "                    out[i][j] = float(\"{0:.2f}\".format(float((np.dot(result_theta[j].T,result_x[i])))+float((average[i]))))\n",
    "print out"
   ]
  },
  {
   "cell_type": "markdown",
   "metadata": {},
   "source": [
    "## Display as Table\n",
    "    -Code below here is use for display the output as table so it is easier to compare the outcome to the real rating"
   ]
  },
  {
   "cell_type": "code",
   "execution_count": 358,
   "metadata": {
    "collapsed": true
   },
   "outputs": [],
   "source": [
    "from IPython.display import HTML\n",
    "\n",
    "class TableCell:\n",
    "    \n",
    "    def __init__(self, text, tc=None, color=None):\n",
    "        self.text = text\n",
    "        self.tc = tc\n",
    "        self.color = color\n",
    "    \n",
    "    def to_html(self):\n",
    "        return '<td>%s</td>'%self.text\n",
    "    \n",
    "def maketable(rating, has_rating, guess, restaurants, names,average):\n",
    "    n_rests = len(restaurants)\n",
    "    n_names = len(names)\n",
    "    tab = np.empty((n_rests+1, n_names+1),dtype='object')\n",
    "    \n",
    "    for irest in range(n_rests):\n",
    "        tab[irest+1,0] = restaurants[irest]\n",
    "\n",
    "    for iname in range(n_names):\n",
    "        tab[0,iname+1] = names[iname]\n",
    "\n",
    "    for irest in range(n_rests):\n",
    "        \n",
    "        for iname in range(n_names):\n",
    "            \n",
    "            if not has_rating[irest, iname]:\n",
    "                tab[irest+1, iname+1] = TableCell('<span style=\"color:red\">%3.2f</span>'%(guess[irest, iname]))\n",
    "            else:\n",
    "                tab[irest+1, iname+1] = TableCell('<span style=\"color:blue\">%3.2f</span><span style=\"color:red\">(%3.2f)</span>'%(rating[irest, iname]+average[irest], guess[irest, iname]))\n",
    "    \n",
    "    #now convert tab array to nice html table\n",
    "    nrow, ncol = tab.shape\n",
    "    t = []\n",
    "    t.append('<table>')\n",
    "    for irow in range(nrow):\n",
    "        t.append('<tr>')\n",
    "        for icol in range(ncol):\n",
    "            cell = tab[irow,icol]\n",
    "            if cell is not None:\n",
    "                if isinstance(cell,TableCell):\n",
    "                    t.append(tab[irow, icol].to_html())\n",
    "                else:\n",
    "                    t.append('<td>')\n",
    "                    t.append(tab[irow, icol])\n",
    "                    t.append('</td>')\n",
    "            else:\n",
    "                t.append('<td></td>')\n",
    "        t.append('</tr>')  \n",
    "    t.append('</table>')\n",
    "    return '\\n'.join(t)"
   ]
  },
  {
   "cell_type": "code",
   "execution_count": 359,
   "metadata": {
    "collapsed": false
   },
   "outputs": [
    {
     "data": {
      "text/html": [
       "<table>\n",
       "<tr>\n",
       "<td></td>\n",
       "<td>\n",
       "Alice\n",
       "</td>\n",
       "<td>\n",
       "Bob\n",
       "</td>\n",
       "<td>\n",
       "Carol\n",
       "</td>\n",
       "<td>\n",
       "Dave\n",
       "</td>\n",
       "<td>\n",
       "eve\n",
       "</td>\n",
       "<td>\n",
       "time\n",
       "</td>\n",
       "</tr>\n",
       "<tr>\n",
       "<td>\n",
       "love\n",
       "</td>\n",
       "<td><span style=\"color:blue\">5.00</span><span style=\"color:red\">(5.00)</span></td>\n",
       "<td><span style=\"color:blue\">5.00</span><span style=\"color:red\">(5.00)</span></td>\n",
       "<td><span style=\"color:blue\">0.00</span><span style=\"color:red\">(0.00)</span></td>\n",
       "<td><span style=\"color:blue\">0.00</span><span style=\"color:red\">(0.01)</span></td>\n",
       "<td><span style=\"color:red\">2.51</span></td>\n",
       "<td><span style=\"color:red\">0.57</span></td>\n",
       "</tr>\n",
       "<tr>\n",
       "<td>\n",
       "Romance\n",
       "</td>\n",
       "<td><span style=\"color:blue\">5.00</span><span style=\"color:red\">(4.99)</span></td>\n",
       "<td><span style=\"color:red\">4.98</span></td>\n",
       "<td><span style=\"color:red\">0.08</span></td>\n",
       "<td><span style=\"color:blue\">0.00</span><span style=\"color:red\">(0.01)</span></td>\n",
       "<td><span style=\"color:red\">2.51</span></td>\n",
       "<td><span style=\"color:red\">0.54</span></td>\n",
       "</tr>\n",
       "<tr>\n",
       "<td>\n",
       "Cute\n",
       "</td>\n",
       "<td><span style=\"color:red\">3.97</span></td>\n",
       "<td><span style=\"color:blue\">4.00</span><span style=\"color:red\">(3.99)</span></td>\n",
       "<td><span style=\"color:blue\">0.00</span><span style=\"color:red\">(-0.00)</span></td>\n",
       "<td><span style=\"color:red\">0.18</span></td>\n",
       "<td><span style=\"color:red\">2.00</span></td>\n",
       "<td><span style=\"color:red\">0.31</span></td>\n",
       "</tr>\n",
       "<tr>\n",
       "<td>\n",
       "Nonstop\n",
       "</td>\n",
       "<td><span style=\"color:blue\">0.00</span><span style=\"color:red\">(0.00)</span></td>\n",
       "<td><span style=\"color:blue\">0.00</span><span style=\"color:red\">(0.00)</span></td>\n",
       "<td><span style=\"color:blue\">5.00</span><span style=\"color:red\">(4.99)</span></td>\n",
       "<td><span style=\"color:blue\">4.00</span><span style=\"color:red\">(4.00)</span></td>\n",
       "<td><span style=\"color:red\">2.25</span></td>\n",
       "<td><span style=\"color:red\">4.24</span></td>\n",
       "</tr>\n",
       "<tr>\n",
       "<td>\n",
       "sword\n",
       "</td>\n",
       "<td><span style=\"color:blue\">0.00</span><span style=\"color:red\">(0.00)</span></td>\n",
       "<td><span style=\"color:blue\">0.00</span><span style=\"color:red\">(0.00)</span></td>\n",
       "<td><span style=\"color:blue\">5.00</span><span style=\"color:red\">(5.00)</span></td>\n",
       "<td><span style=\"color:red\">4.52</span></td>\n",
       "<td><span style=\"color:red\">2.50</span></td>\n",
       "<td><span style=\"color:blue\">5.00</span><span style=\"color:red\">(4.99)</span></td>\n",
       "</tr>\n",
       "<tr>\n",
       "<td>\n",
       "iron man\n",
       "</td>\n",
       "<td><span style=\"color:red\">5.00</span></td>\n",
       "<td><span style=\"color:red\">5.00</span></td>\n",
       "<td><span style=\"color:red\">5.00</span></td>\n",
       "<td><span style=\"color:red\">5.00</span></td>\n",
       "<td><span style=\"color:blue\">5.00</span><span style=\"color:red\">(5.00)</span></td>\n",
       "<td><span style=\"color:red\">5.00</span></td>\n",
       "</tr>\n",
       "<tr>\n",
       "<td>\n",
       "the inturn\n",
       "</td>\n",
       "<td><span style=\"color:blue\">3.00</span><span style=\"color:red\">(3.00)</span></td>\n",
       "<td><span style=\"color:red\">3.00</span></td>\n",
       "<td><span style=\"color:red\">3.00</span></td>\n",
       "<td><span style=\"color:blue\">3.00</span><span style=\"color:red\">(3.00)</span></td>\n",
       "<td><span style=\"color:red\">3.00</span></td>\n",
       "<td><span style=\"color:blue\">3.00</span><span style=\"color:red\">(3.00)</span></td>\n",
       "</tr>\n",
       "</table>"
      ],
      "text/plain": [
       "<IPython.core.display.HTML object>"
      ]
     },
     "execution_count": 359,
     "metadata": {},
     "output_type": "execute_result"
    }
   ],
   "source": [
    "HTML(maketable(rating.T, has_rating.T, out, movies, names,average))"
   ]
  },
  {
   "cell_type": "markdown",
   "metadata": {
    "collapsed": true
   },
   "source": [
    "## Getting recommen list \n",
    "    -recommend movie for particular user\n"
   ]
  },
  {
   "cell_type": "code",
   "execution_count": 360,
   "metadata": {
    "collapsed": false
   },
   "outputs": [
    {
     "name": "stdout",
     "output_type": "stream",
     "text": [
      "[5, 4, 3]\n"
     ]
    }
   ],
   "source": [
    "def recommend(user):\n",
    "    if user in names:\n",
    "        recommend_list = []\n",
    "        for i in range (0,len(movies)):\n",
    "            if has_rating.T[i][names.index(user)]==0:\n",
    "                recommend_list.append(int(out[i][names.index(user)]))\n",
    "        recommend_list.sort(reverse=True)\n",
    "        print recommend_list\n",
    "    else: \n",
    "        print \"database does not contain this user\"\n",
    "        \n",
    "recommend(\"Bob\")"
   ]
  },
  {
   "cell_type": "code",
   "execution_count": null,
   "metadata": {
    "collapsed": true
   },
   "outputs": [],
   "source": []
  }
 ],
 "metadata": {
  "kernelspec": {
   "display_name": "Python 2",
   "language": "python",
   "name": "python2"
  },
  "language_info": {
   "codemirror_mode": {
    "name": "ipython",
    "version": 2
   },
   "file_extension": ".py",
   "mimetype": "text/x-python",
   "name": "python",
   "nbconvert_exporter": "python",
   "pygments_lexer": "ipython2",
   "version": "2.7.10"
  }
 },
 "nbformat": 4,
 "nbformat_minor": 0
}
