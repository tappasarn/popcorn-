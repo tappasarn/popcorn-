{
 "cells": [
  {
   "cell_type": "code",
   "execution_count": 43,
   "metadata": {
    "collapsed": false
   },
   "outputs": [],
   "source": [
    "import numpy as np\n",
    "from scipy.optimize import minimize\n",
    "np.set_printoptions(threshold='nan')"
   ]
  },
  {
   "cell_type": "markdown",
   "metadata": {},
   "source": [
    "## prepare data set\n",
    "    - this bloc is for preparing the data matrix has_rating[i,j] 1 if a paticular user has rated a particular movie, 0 otherwise. Rating[i,j] real is rating that given by particular users **value exist if and only if coresponding has_rating[i,j]==1\n",
    "    - number of users can be optain by len(names) and number of movies can be optain by len(movies)"
   ]
  },
  {
   "cell_type": "code",
   "execution_count": 44,
   "metadata": {
    "collapsed": false
   },
   "outputs": [
    {
     "name": "stdout",
     "output_type": "stream",
     "text": [
      "name ['Alice', 'Bob', 'Carol', 'Dave', 'eve']\n",
      "movies ['love', 'Romance', 'Cute', 'Nonstop', 'sword', 'iron man']\n",
      "has_rating [[ 1.  1.  1.  1.  0.]\n",
      " [ 1.  0.  0.  1.  0.]\n",
      " [ 0.  1.  1.  0.  0.]\n",
      " [ 1.  1.  1.  1.  0.]\n",
      " [ 1.  1.  1.  0.  0.]\n",
      " [ 0.  0.  0.  0.  1.]]\n",
      "rating [[ 5.  5.  0.  0.  0.]\n",
      " [ 5.  0.  0.  0.  0.]\n",
      " [ 0.  4.  0.  0.  0.]\n",
      " [ 0.  0.  5.  4.  0.]\n",
      " [ 0.  0.  5.  0.  0.]\n",
      " [ 0.  0.  0.  0.  5.]]\n"
     ]
    }
   ],
   "source": [
    "import StringIO\n",
    "import csv\n",
    "with open('resource - Sheet1 (2).csv') as f:\n",
    "    s = StringIO.StringIO(f.read()) \n",
    "    reader = csv.reader(s, delimiter=',')\n",
    "    raw = [row for row in reader]\n",
    "\n",
    "def get_names(raw):\n",
    "    return raw[2][2:]\n",
    "\n",
    "def get_movies(raw):\n",
    "    movies = []\n",
    "    for i in range(3, len(raw)):\n",
    "        movies.append(raw[i][1])\n",
    "    return movies\n",
    "\n",
    "def get_rating(raw):\n",
    "    \n",
    "    names = get_names(raw)\n",
    "    movies = get_movies(raw)\n",
    "    name_offset = 2\n",
    "    movies_offset = 3\n",
    "    \n",
    "    n_names = len(names)\n",
    "    n_movies = len(movies)\n",
    "\n",
    "    has_rating = np.zeros((n_names, n_movies))\n",
    "    rating = np.zeros((n_names, n_movies))\n",
    "    \n",
    "    for ir in range(n_movies):\n",
    "        \n",
    "        this_row = raw[movies_offset + ir]\n",
    "\n",
    "        for ip in range(n_names):\n",
    "            \n",
    "            this_cell =  this_row[name_offset + ip]\n",
    "            hr = this_cell.isdigit()\n",
    "            has_rating[ip, ir] = 1 if hr else 0\n",
    "            if hr:\n",
    "                rating[ip, ir] = int(this_cell)\n",
    "                \n",
    "    return names, movies, has_rating, rating\n",
    "\n",
    "names, movies, has_rating, rating = get_rating(raw)\n",
    "\n",
    "print \"name\", names\n",
    "print \"movies\", movies\n",
    "print \"has_rating\", has_rating.T\n",
    "print \"rating\", rating.T"
   ]
  },
  {
   "cell_type": "markdown",
   "metadata": {},
   "source": [
    "## Implementation of Detail Mean Normalization\n",
    "    - the seection below here is implemented to handle the case of newly added user that has never rated any movie before \n",
    "    - notice that in our data set we have Eve who never rate any movie so we can think of her as newly added user"
   ]
  },
  {
   "cell_type": "code",
   "execution_count": 45,
   "metadata": {
    "collapsed": false
   },
   "outputs": [
    {
     "name": "stdout",
     "output_type": "stream",
     "text": [
      "[[ 2.5       ]\n",
      " [ 2.5       ]\n",
      " [ 2.        ]\n",
      " [ 2.25      ]\n",
      " [ 1.66666667]\n",
      " [ 5.        ]]\n"
     ]
    }
   ],
   "source": [
    "# init the average matrix\n",
    "average = np.zeros((len(movies),1))\n",
    "\n",
    "# find average value for each row \n",
    "for i in range (0,len(movies)):\n",
    "    sum_each_row = 0\n",
    "    count_num = 0\n",
    "    \n",
    "    for j in range (0,len(names)):\n",
    "        \n",
    "        if has_rating.T[i][j] == 1:\n",
    "            sum_each_row = sum_each_row + rating.T[i][j]\n",
    "            count_num = count_num+1\n",
    "            \n",
    "    average[i][0] = sum_each_row/count_num\n",
    "    \n",
    "print average"
   ]
  },
  {
   "cell_type": "markdown",
   "metadata": {},
   "source": [
    "# running data after Implementation of Detail Mean Normalization\n",
    "    - on the section below here we re-run our main again with the new rating matrix  "
   ]
  },
  {
   "cell_type": "code",
   "execution_count": 46,
   "metadata": {
    "collapsed": false
   },
   "outputs": [
    {
     "name": "stdout",
     "output_type": "stream",
     "text": [
      "original rating [[ 5.  5.  0.  0.  0.]\n",
      " [ 5.  0.  0.  0.  0.]\n",
      " [ 0.  4.  0.  0.  0.]\n",
      " [ 0.  0.  5.  4.  0.]\n",
      " [ 0.  0.  5.  0.  0.]\n",
      " [ 0.  0.  0.  0.  5.]]\n",
      "rating after DMN [[ 2.5         2.5        -2.5        -2.5         0.        ]\n",
      " [ 2.5         0.          0.         -2.5         0.        ]\n",
      " [ 0.          2.         -2.          0.          0.        ]\n",
      " [-2.25       -2.25        2.75        1.75        0.        ]\n",
      " [-1.66666667 -1.66666667  3.33333333  0.          0.        ]\n",
      " [ 0.          0.          0.          0.          0.        ]]\n"
     ]
    }
   ],
   "source": [
    "print \"original rating\",rating.T\n",
    "\n",
    "# re-init value for rating matrix\n",
    "for i in range (0,len(movies)):\n",
    "    for j in range (0,len(names)):\n",
    "        if has_rating.T[i][j] == 1:\n",
    "            rating.T[i][j] = rating.T[i][j] - average[i]\n",
    "print \"rating after DMN\",rating.T "
   ]
  },
  {
   "cell_type": "markdown",
   "metadata": {},
   "source": [
    "## Getting the best weight\n",
    "    - start Linear Regression class below here"
   ]
  },
  {
   "cell_type": "code",
   "execution_count": 47,
   "metadata": {
    "collapsed": true
   },
   "outputs": [],
   "source": [
    "class LinearRegression: \n",
    "    \n",
    "     # init all the data so it can easily accessed by all methods\n",
    "    def __init__(self,has_rating,real_rating,fea,lamda,names,movies,theta,x):\n",
    "        \n",
    "        #has_rating and real_rating here are already transposed\n",
    "        self.has_rating = has_rating\n",
    "        self.real_rating = real_rating\n",
    "        self.fea=fea\n",
    "        self.lamda=lamda\n",
    "        self.names = names\n",
    "        self.movies = movies\n",
    "        self.num_names = len(names)\n",
    "        self.num_movies = len(movies) \n",
    "        self.theta = theta\n",
    "        self.x = x\n",
    "    \n",
    "    #this function is use to find the gradient value for x \n",
    "    def sum_x(self,i,k,lamda):\n",
    "        \n",
    "        sum_x_value = 0 \n",
    "        \n",
    "        for j in range (0,self.num_names):\n",
    "            if self.has_rating[i][j] == 1:\n",
    "                sum_x_value = sum_x_value+(np.dot(self.theta[j].T,self.x[i]) - self.real_rating[i][j])*self.theta[j][k]         \n",
    "        \n",
    "        return sum_x_value\n",
    "    \n",
    "    #this function is use to find the gradient value for theta\n",
    "    def sum_theta(self,j,k,lamda):\n",
    "        \n",
    "        sum_theta_value = 0\n",
    "        \n",
    "        for i in range (0,self.num_movies):\n",
    "            if self.has_rating[i][j] == 1:\n",
    "                sum_theta_value = sum_theta_value+(np.dot(self.theta[j].T,self.x[i]) - self.real_rating[i][j])*self.x[i][k]\n",
    "        \n",
    "        return sum_theta_value\n",
    "                \n",
    "                \n",
    "                \n",
    "                \n",
    "    #this function will seek for the x and thata that can meet the local minimum of the function\n",
    "    def gradient_descent(self,alpha,lamda):\n",
    "        \n",
    "        # init keep_array for both x and theta\n",
    "        keep_x = np.zeros((self.num_movies,self.fea))\n",
    "        keep_theta = np.zeros((self.num_names,self.fea))\n",
    "        keep_x = self.x\n",
    "        keep_theta = self.theta\n",
    "        \n",
    "        #for-loop here is used for allowing the convergent of gradient value\n",
    "        for times in range(0,30000):\n",
    "           \n",
    "            #re-assign value to self.x and self.theta\n",
    "            self.x = keep_x\n",
    "            self.theta = keep_theta\n",
    "            \n",
    "            #set the value of x\n",
    "            for i in range (0,self.num_movies):\n",
    "                for k in range (0,self.fea):\n",
    "                    \n",
    "                    keep_x[i][k] = self.x[i][k] - alpha*(self.sum_x(i,k,lamda)+lamda*self.x[i][k])\n",
    "                    \n",
    "            #set the value of theta\n",
    "            for j in range (0,self.num_names):\n",
    "                for k in range (0,self.fea):\n",
    "                    \n",
    "                    keep_theta[j][k] = self.theta[j][k] - alpha*(self.sum_theta(j,k,lamda)+lamda*self.theta[j][k])\n",
    "            \n",
    "            #every 10000 time we reduce the step size\n",
    "            if times%10000 == 0:\n",
    "                alpha = alpha/2\n",
    "            \n",
    "        return self.x,self.theta"
   ]
  },
  {
   "cell_type": "markdown",
   "metadata": {},
   "source": [
    "## Calling linear regression class"
   ]
  },
  {
   "cell_type": "code",
   "execution_count": 48,
   "metadata": {
    "collapsed": false
   },
   "outputs": [
    {
     "name": "stdout",
     "output_type": "stream",
     "text": [
      "x [[ 0.44227833  1.58923335]\n",
      " [ 0.47689677  1.57569405]\n",
      " [ 0.32248737  1.26166587]\n",
      " [ 0.11858327 -1.44802393]\n",
      " [ 1.268259   -1.16053811]\n",
      " [ 0.40905564  0.27564407]]\n",
      "theta [[ 0.10238703  1.55088915]\n",
      " [ 0.10230416  1.55104596]\n",
      " [ 0.94552504 -1.82830483]\n",
      " [-0.95215249 -1.29648544]\n",
      " [-0.12536575  0.1860422 ]]\n"
     ]
    }
   ],
   "source": [
    "#set the number of feature \n",
    "number_feature = 2\n",
    "\n",
    "#init small guessing value for both theta and x\n",
    "#next time try np.zeros for both theta and x\n",
    "guess_theta = np.random.uniform(0.01,1,[len(names),number_feature])\n",
    "guess_x = np.random.uniform(0.01,1,[len(movies),number_feature])\n",
    "\n",
    "#get object from linear regression class\n",
    "linear_obj = LinearRegression(has_rating.T,rating.T,number_feature,0.01,names,movies,guess_theta,guess_x)\n",
    "\n",
    "#get return from gradient descent function (minimize x and minimize theta)\n",
    "result_x, result_theta = linear_obj.gradient_descent(0.005,0.01)\n",
    "\n",
    "#show them\n",
    "print \"x\", result_x\n",
    "print \"theta\", result_theta"
   ]
  },
  {
   "cell_type": "markdown",
   "metadata": {},
   "source": [
    "## Output array"
   ]
  },
  {
   "cell_type": "code",
   "execution_count": 49,
   "metadata": {
    "collapsed": false
   },
   "outputs": [
    {
     "name": "stdout",
     "output_type": "stream",
     "text": [
      "[[ 5.01  5.01  0.01  0.02  2.74]\n",
      " [ 4.99  4.99  0.07  0.    2.73]\n",
      " [ 3.99  3.99 -0.    0.06  2.19]\n",
      " [ 0.02  0.02  5.01  4.01  1.97]\n",
      " [-0.   -0.    4.99  1.96  1.29]\n",
      " [ 5.47  5.47  4.88  4.25  5.  ]]\n"
     ]
    }
   ],
   "source": [
    "#out array is the final guessing value from minimize x and theta\n",
    "out = np.zeros((len(movies),len(names)))\n",
    "\n",
    "for i in range(0,len(movies)):\n",
    "            for j in range(0,len(names)):\n",
    "                    out[i][j] = float(\"{0:.2f}\".format(float((np.dot(result_theta[j].T,result_x[i])))+float((average[i]))))\n",
    "print out"
   ]
  },
  {
   "cell_type": "markdown",
   "metadata": {},
   "source": [
    "## Display as Table\n",
    "    -Code below here is use for display the output as table so it is easier to compare the outcome to the real rating"
   ]
  },
  {
   "cell_type": "code",
   "execution_count": 50,
   "metadata": {
    "collapsed": true
   },
   "outputs": [],
   "source": [
    "from IPython.display import HTML\n",
    "\n",
    "class TableCell:\n",
    "    \n",
    "    def __init__(self, text, tc=None, color=None):\n",
    "        self.text = text\n",
    "        self.tc = tc\n",
    "        self.color = color\n",
    "    \n",
    "    def to_html(self):\n",
    "        return '<td>%s</td>'%self.text\n",
    "    \n",
    "def maketable(rating, has_rating, guess, restaurants, names,average):\n",
    "    n_rests = len(restaurants)\n",
    "    n_names = len(names)\n",
    "    tab = np.empty((n_rests+1, n_names+1),dtype='object')\n",
    "    \n",
    "    for irest in range(n_rests):\n",
    "        tab[irest+1,0] = restaurants[irest]\n",
    "\n",
    "    for iname in range(n_names):\n",
    "        tab[0,iname+1] = names[iname]\n",
    "\n",
    "    for irest in range(n_rests):\n",
    "        \n",
    "        for iname in range(n_names):\n",
    "            \n",
    "            if not has_rating[irest, iname]:\n",
    "                tab[irest+1, iname+1] = TableCell('<span style=\"color:red\">%3.2f</span>'%(guess[irest, iname]))\n",
    "            else:\n",
    "                tab[irest+1, iname+1] = TableCell('<span style=\"color:blue\">%3.2f</span><span style=\"color:red\">(%3.2f)</span>'%(rating[irest, iname]+average[irest], guess[irest, iname]))\n",
    "    \n",
    "    #now convert tab array to nice html table\n",
    "    nrow, ncol = tab.shape\n",
    "    t = []\n",
    "    t.append('<table>')\n",
    "    for irow in range(nrow):\n",
    "        t.append('<tr>')\n",
    "        for icol in range(ncol):\n",
    "            cell = tab[irow,icol]\n",
    "            if cell is not None:\n",
    "                if isinstance(cell,TableCell):\n",
    "                    t.append(tab[irow, icol].to_html())\n",
    "                else:\n",
    "                    t.append('<td>')\n",
    "                    t.append(tab[irow, icol])\n",
    "                    t.append('</td>')\n",
    "            else:\n",
    "                t.append('<td></td>')\n",
    "        t.append('</tr>')  \n",
    "    t.append('</table>')\n",
    "    return '\\n'.join(t)"
   ]
  },
  {
   "cell_type": "code",
   "execution_count": 51,
   "metadata": {
    "collapsed": false
   },
   "outputs": [
    {
     "data": {
      "text/html": [
       "<table>\n",
       "<tr>\n",
       "<td></td>\n",
       "<td>\n",
       "Alice\n",
       "</td>\n",
       "<td>\n",
       "Bob\n",
       "</td>\n",
       "<td>\n",
       "Carol\n",
       "</td>\n",
       "<td>\n",
       "Dave\n",
       "</td>\n",
       "<td>\n",
       "eve\n",
       "</td>\n",
       "</tr>\n",
       "<tr>\n",
       "<td>\n",
       "love\n",
       "</td>\n",
       "<td><span style=\"color:blue\">5.00</span><span style=\"color:red\">(5.01)</span></td>\n",
       "<td><span style=\"color:blue\">5.00</span><span style=\"color:red\">(5.01)</span></td>\n",
       "<td><span style=\"color:blue\">0.00</span><span style=\"color:red\">(0.01)</span></td>\n",
       "<td><span style=\"color:blue\">0.00</span><span style=\"color:red\">(0.02)</span></td>\n",
       "<td><span style=\"color:red\">2.74</span></td>\n",
       "</tr>\n",
       "<tr>\n",
       "<td>\n",
       "Romance\n",
       "</td>\n",
       "<td><span style=\"color:blue\">5.00</span><span style=\"color:red\">(4.99)</span></td>\n",
       "<td><span style=\"color:red\">4.99</span></td>\n",
       "<td><span style=\"color:red\">0.07</span></td>\n",
       "<td><span style=\"color:blue\">0.00</span><span style=\"color:red\">(0.00)</span></td>\n",
       "<td><span style=\"color:red\">2.73</span></td>\n",
       "</tr>\n",
       "<tr>\n",
       "<td>\n",
       "Cute\n",
       "</td>\n",
       "<td><span style=\"color:red\">3.99</span></td>\n",
       "<td><span style=\"color:blue\">4.00</span><span style=\"color:red\">(3.99)</span></td>\n",
       "<td><span style=\"color:blue\">0.00</span><span style=\"color:red\">(-0.00)</span></td>\n",
       "<td><span style=\"color:red\">0.06</span></td>\n",
       "<td><span style=\"color:red\">2.19</span></td>\n",
       "</tr>\n",
       "<tr>\n",
       "<td>\n",
       "Nonstop\n",
       "</td>\n",
       "<td><span style=\"color:blue\">0.00</span><span style=\"color:red\">(0.02)</span></td>\n",
       "<td><span style=\"color:blue\">0.00</span><span style=\"color:red\">(0.02)</span></td>\n",
       "<td><span style=\"color:blue\">5.00</span><span style=\"color:red\">(5.01)</span></td>\n",
       "<td><span style=\"color:blue\">4.00</span><span style=\"color:red\">(4.01)</span></td>\n",
       "<td><span style=\"color:red\">1.97</span></td>\n",
       "</tr>\n",
       "<tr>\n",
       "<td>\n",
       "sword\n",
       "</td>\n",
       "<td><span style=\"color:blue\">0.00</span><span style=\"color:red\">(-0.00)</span></td>\n",
       "<td><span style=\"color:blue\">0.00</span><span style=\"color:red\">(-0.00)</span></td>\n",
       "<td><span style=\"color:blue\">5.00</span><span style=\"color:red\">(4.99)</span></td>\n",
       "<td><span style=\"color:red\">1.96</span></td>\n",
       "<td><span style=\"color:red\">1.29</span></td>\n",
       "</tr>\n",
       "<tr>\n",
       "<td>\n",
       "iron man\n",
       "</td>\n",
       "<td><span style=\"color:red\">5.47</span></td>\n",
       "<td><span style=\"color:red\">5.47</span></td>\n",
       "<td><span style=\"color:red\">4.88</span></td>\n",
       "<td><span style=\"color:red\">4.25</span></td>\n",
       "<td><span style=\"color:blue\">5.00</span><span style=\"color:red\">(5.00)</span></td>\n",
       "</tr>\n",
       "</table>"
      ],
      "text/plain": [
       "<IPython.core.display.HTML object>"
      ]
     },
     "execution_count": 51,
     "metadata": {},
     "output_type": "execute_result"
    }
   ],
   "source": [
    "HTML(maketable(rating.T, has_rating.T, out, movies, names,average))"
   ]
  },
  {
   "cell_type": "markdown",
   "metadata": {
    "collapsed": true
   },
   "source": [
    "## Getting recommen list \n",
    "    -recommend movie for particular user\n"
   ]
  },
  {
   "cell_type": "code",
   "execution_count": 52,
   "metadata": {
    "collapsed": false
   },
   "outputs": [
    {
     "ename": "ValueError",
     "evalue": "invalid literal for int() with base 10: 'Romance'",
     "output_type": "error",
     "traceback": [
      "\u001b[1;31m---------------------------------------------------------------------------\u001b[0m",
      "\u001b[1;31mValueError\u001b[0m                                Traceback (most recent call last)",
      "\u001b[1;32m<ipython-input-52-e44c3c52f1f2>\u001b[0m in \u001b[0;36m<module>\u001b[1;34m()\u001b[0m\n\u001b[0;32m     10\u001b[0m         \u001b[1;32mprint\u001b[0m \u001b[1;34m\"database does not contain this user\"\u001b[0m\u001b[1;33m\u001b[0m\u001b[0m\n\u001b[0;32m     11\u001b[0m \u001b[1;33m\u001b[0m\u001b[0m\n\u001b[1;32m---> 12\u001b[1;33m \u001b[0mrecommend\u001b[0m\u001b[1;33m(\u001b[0m\u001b[1;34m\"Bob\"\u001b[0m\u001b[1;33m)\u001b[0m\u001b[1;33m\u001b[0m\u001b[0m\n\u001b[0m",
      "\u001b[1;32m<ipython-input-52-e44c3c52f1f2>\u001b[0m in \u001b[0;36mrecommend\u001b[1;34m(user)\u001b[0m\n\u001b[0;32m      4\u001b[0m         \u001b[1;32mfor\u001b[0m \u001b[0mi\u001b[0m \u001b[1;32min\u001b[0m \u001b[0mrange\u001b[0m \u001b[1;33m(\u001b[0m\u001b[1;36m0\u001b[0m\u001b[1;33m,\u001b[0m\u001b[0mlen\u001b[0m\u001b[1;33m(\u001b[0m\u001b[0mmovies\u001b[0m\u001b[1;33m)\u001b[0m\u001b[1;33m)\u001b[0m\u001b[1;33m:\u001b[0m\u001b[1;33m\u001b[0m\u001b[0m\n\u001b[0;32m      5\u001b[0m             \u001b[1;32mif\u001b[0m \u001b[0mhas_rating\u001b[0m\u001b[1;33m.\u001b[0m\u001b[0mT\u001b[0m\u001b[1;33m[\u001b[0m\u001b[0mi\u001b[0m\u001b[1;33m]\u001b[0m\u001b[1;33m[\u001b[0m\u001b[0mnames\u001b[0m\u001b[1;33m.\u001b[0m\u001b[0mindex\u001b[0m\u001b[1;33m(\u001b[0m\u001b[0muser\u001b[0m\u001b[1;33m)\u001b[0m\u001b[1;33m]\u001b[0m\u001b[1;33m==\u001b[0m\u001b[1;36m0\u001b[0m\u001b[1;33m:\u001b[0m\u001b[1;33m\u001b[0m\u001b[0m\n\u001b[1;32m----> 6\u001b[1;33m                 \u001b[0mrecommend_list\u001b[0m\u001b[1;33m.\u001b[0m\u001b[0mappend\u001b[0m\u001b[1;33m(\u001b[0m\u001b[0mint\u001b[0m\u001b[1;33m(\u001b[0m\u001b[0mmovies\u001b[0m\u001b[1;33m[\u001b[0m\u001b[0mi\u001b[0m\u001b[1;33m]\u001b[0m\u001b[1;33m)\u001b[0m\u001b[1;33m)\u001b[0m\u001b[1;33m\u001b[0m\u001b[0m\n\u001b[0m\u001b[0;32m      7\u001b[0m         \u001b[0mrecommend_list\u001b[0m\u001b[1;33m.\u001b[0m\u001b[0msort\u001b[0m\u001b[1;33m(\u001b[0m\u001b[0mreverse\u001b[0m\u001b[1;33m=\u001b[0m\u001b[0mTrue\u001b[0m\u001b[1;33m)\u001b[0m\u001b[1;33m\u001b[0m\u001b[0m\n\u001b[0;32m      8\u001b[0m         \u001b[1;32mprint\u001b[0m \u001b[0mrecommend_list\u001b[0m\u001b[1;33m\u001b[0m\u001b[0m\n",
      "\u001b[1;31mValueError\u001b[0m: invalid literal for int() with base 10: 'Romance'"
     ]
    }
   ],
   "source": [
    "def recommend(user):\n",
    "    if user in names:\n",
    "        recommend_list = []\n",
    "        for i in range (0,len(movies)):\n",
    "            if has_rating.T[i][names.index(user)]==0:\n",
    "                recommend_list.append(int(out[i][names.index(user)]))\n",
    "        recommend_list.sort(reverse=True)\n",
    "        print recommend_list\n",
    "    else: \n",
    "        print \"database does not contain this user\"\n",
    "        \n",
    "recommend(\"Bob\")"
   ]
  },
  {
   "cell_type": "code",
   "execution_count": null,
   "metadata": {
    "collapsed": true
   },
   "outputs": [],
   "source": []
  }
 ],
 "metadata": {
  "kernelspec": {
   "display_name": "Python 2",
   "language": "python",
   "name": "python2"
  },
  "language_info": {
   "codemirror_mode": {
    "name": "ipython",
    "version": 2
   },
   "file_extension": ".py",
   "mimetype": "text/x-python",
   "name": "python",
   "nbconvert_exporter": "python",
   "pygments_lexer": "ipython2",
   "version": "2.7.10"
  }
 },
 "nbformat": 4,
 "nbformat_minor": 0
}
