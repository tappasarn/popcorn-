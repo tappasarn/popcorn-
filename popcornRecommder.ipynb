{
 "cells": [
  {
   "cell_type": "code",
   "execution_count": 99,
   "metadata": {
    "collapsed": false
   },
   "outputs": [],
   "source": [
    "import numpy as np\n",
    "from scipy.optimize import minimize\n",
    "np.set_printoptions(threshold='nan')"
   ]
  },
  {
   "cell_type": "markdown",
   "metadata": {},
   "source": [
    "## prepare data set\n",
    "- this bloc is for preparing the data matrix has_rating[i,j] 1 if a paticular user has rated a particular movie, 0. otherwise rating[i,j] real rating that given by particular users **value exist if and only if coresponding has_rating[i,j]==1\n",
    "- number of users can be optain by len(names) and number of movies can be optain by len(movies)"
   ]
  },
  {
   "cell_type": "code",
   "execution_count": 100,
   "metadata": {
    "collapsed": false
   },
   "outputs": [
    {
     "name": "stdout",
     "output_type": "stream",
     "text": [
      "name ['Alice', 'Bob', 'Carol', 'Dave']\n",
      "movies ['love', 'Romance', 'Cute', 'Nonstop', 'sword']\n",
      "has_rating [[ 1.  1.  1.  1.]\n",
      " [ 1.  0.  0.  1.]\n",
      " [ 0.  1.  1.  0.]\n",
      " [ 1.  1.  1.  1.]\n",
      " [ 1.  1.  1.  0.]]\n",
      "rating [[ 5.  5.  0.  0.]\n",
      " [ 5.  0.  0.  0.]\n",
      " [ 0.  4.  0.  0.]\n",
      " [ 0.  0.  5.  4.]\n",
      " [ 0.  0.  5.  0.]]\n"
     ]
    }
   ],
   "source": [
    "import StringIO\n",
    "import csv\n",
    "with open('popcorn_resource - Sheet1.csv') as f:\n",
    "    s = StringIO.StringIO(f.read()) \n",
    "    reader = csv.reader(s, delimiter=',')\n",
    "    raw = [row for row in reader]\n",
    "\n",
    "def get_names(raw):\n",
    "    return raw[2][2:]\n",
    "\n",
    "def get_movies(raw):\n",
    "    movies = []\n",
    "    for i in range(3, len(raw)):\n",
    "        movies.append(raw[i][1])\n",
    "    return movies\n",
    "\n",
    "def get_rating(raw):\n",
    "    \n",
    "    names = get_names(raw)\n",
    "    movies = get_movies(raw)\n",
    "    name_offset = 2\n",
    "    movies_offset = 3\n",
    "    \n",
    "    n_names = len(names)\n",
    "    n_movies = len(movies)\n",
    "\n",
    "    has_rating = np.zeros((n_names, n_movies))\n",
    "    rating = np.zeros((n_names, n_movies))\n",
    "    \n",
    "    for ir in range(n_movies):\n",
    "        \n",
    "        this_row = raw[movies_offset + ir]\n",
    "\n",
    "        for ip in range(n_names):\n",
    "            \n",
    "            this_cell =  this_row[name_offset + ip]\n",
    "            hr = this_cell.isdigit()\n",
    "            has_rating[ip, ir] = 1 if hr else 0\n",
    "            if hr:\n",
    "                rating[ip, ir] = int(this_cell)\n",
    "                \n",
    "    return names, movies, has_rating, rating\n",
    "\n",
    "names, movies, has_rating, rating = get_rating(raw)\n",
    "\n",
    "print \"name\", names\n",
    "print \"movies\", movies\n",
    "print \"has_rating\", has_rating.T\n",
    "print \"rating\", rating.T"
   ]
  },
  {
   "cell_type": "markdown",
   "metadata": {},
   "source": [
    "## Implementation of Detail Mean Normalization\n",
    "- the seection below here is implemented to handle the case of newly added user that has never rated any movie before \n",
    "- notice that in our data set we have Eve who never rate any movie so we can think of her as newly added user"
   ]
  },
  {
   "cell_type": "code",
   "execution_count": 101,
   "metadata": {
    "collapsed": false
   },
   "outputs": [
    {
     "name": "stdout",
     "output_type": "stream",
     "text": [
      "[[ 2.5       ]\n",
      " [ 2.5       ]\n",
      " [ 2.        ]\n",
      " [ 2.25      ]\n",
      " [ 1.66666667]]\n"
     ]
    }
   ],
   "source": [
    "# init the average matrix\n",
    "average = np.zeros((len(movies),1))\n",
    "\n",
    "# find average value for each row \n",
    "for i in range (0,len(movies)):\n",
    "    sum_each_row = 0\n",
    "    count_num = 0\n",
    "    \n",
    "    for j in range (0,len(names)):\n",
    "        \n",
    "        if has_rating.T[i][j] == 1:\n",
    "            sum_each_row = sum_each_row + rating.T[i][j]\n",
    "            count_num = count_num+1\n",
    "            \n",
    "    average[i][0] = sum_each_row/count_num\n",
    "    \n",
    "print average"
   ]
  },
  {
   "cell_type": "markdown",
   "metadata": {},
   "source": [
    "# running data after Implementation of Detail Mean Normalization\n",
    "- on the section below here we re-run our main again with the new rating matrix  "
   ]
  },
  {
   "cell_type": "code",
   "execution_count": 102,
   "metadata": {
    "collapsed": false
   },
   "outputs": [
    {
     "name": "stdout",
     "output_type": "stream",
     "text": [
      "original rating [[ 5.  5.  0.  0.]\n",
      " [ 5.  0.  0.  0.]\n",
      " [ 0.  4.  0.  0.]\n",
      " [ 0.  0.  5.  4.]\n",
      " [ 0.  0.  5.  0.]]\n",
      "rating after DMN [[ 2.5         2.5        -2.5        -2.5       ]\n",
      " [ 2.5         0.          0.         -2.5       ]\n",
      " [ 0.          2.         -2.          0.        ]\n",
      " [-2.25       -2.25        2.75        1.75      ]\n",
      " [-1.66666667 -1.66666667  3.33333333  0.        ]]\n"
     ]
    }
   ],
   "source": [
    "print \"original rating\",rating.T\n",
    "# re-init value for rating matrix\n",
    "for i in range (0,len(movies)):\n",
    "    for j in range (0,len(names)):\n",
    "        if has_rating.T[i][j] == 1:\n",
    "            rating.T[i][j] = rating.T[i][j] - average[i]\n",
    "print \"rating after DMN\",rating.T "
   ]
  },
  {
   "cell_type": "markdown",
   "metadata": {},
   "source": [
    "## Getting the best weight\n",
    "- start Linear Regression class below here"
   ]
  },
  {
   "cell_type": "code",
   "execution_count": 103,
   "metadata": {
    "collapsed": true
   },
   "outputs": [],
   "source": [
    "class LinearRegression: \n",
    "    \n",
    "     # init all the data so it can easily accessed by all methods\n",
    "    def __init__(self,has_rating,real_rating,fea,lamda,names,movies,theta,x):\n",
    "        \n",
    "        #has_rating and real_rating here are already transposed\n",
    "        self.has_rating = has_rating\n",
    "        self.real_rating = real_rating\n",
    "        \n",
    "        self.fea=fea\n",
    "        self.lamda=lamda\n",
    "        self.names = names\n",
    "        self.movies = movies\n",
    "        self.num_names = len(names)\n",
    "        self.num_movies = len(movies) \n",
    "        self.theta = theta\n",
    "        self.x = x\n",
    "    \n",
    "    def sum_x(self,i,k,lamda):\n",
    "        \n",
    "        sum_x_value = 0 \n",
    "        \n",
    "        for j in range (0,self.num_names):\n",
    "            if self.has_rating[i][j] == 1:\n",
    "                sum_x_value = sum_x_value+(np.dot(self.theta[j].T,self.x[i]) - self.real_rating[i][j])*self.theta[j][k]\n",
    "     \n",
    "        #print \"x\", sum_x_value      \n",
    "        return sum_x_value\n",
    "    \n",
    "    \n",
    "    def sum_theta(self,j,k,lamda):\n",
    "        \n",
    "        sum_theta_value = 0\n",
    "        \n",
    "        for i in range (0,self.num_movies):\n",
    "            if self.has_rating[i][j] == 1:\n",
    "                sum_theta_value = sum_theta_value+(np.dot(self.theta[j].T,self.x[i]) - self.real_rating[i][j])*self.x[i][k]\n",
    "        #print \"theta\", sum_theta_value\n",
    "        return sum_theta_value\n",
    "                \n",
    "                \n",
    "                \n",
    "                \n",
    "    #this function will seek for the x and thata that can meet the local minimum of the function\n",
    "    def gradient_descent(self,alpha,lamda):\n",
    "        \n",
    "        # init keep_array for both x and theta\n",
    "        keep_x = np.zeros((self.num_movies,self.fea))\n",
    "        keep_theta = np.zeros((self.num_names,self.fea))\n",
    "        keep_x = self.x\n",
    "        keep_theta = self.theta\n",
    "        print keep_theta\n",
    "        print keep_x\n",
    "        print self.real_rating\n",
    "        \n",
    "        for times in range(0,100):\n",
    "            #print \"time\", times\n",
    "            #re-assign value to self.x and self.theta\n",
    "            self.x = keep_x\n",
    "            self.theta = keep_theta\n",
    "            \n",
    "            #set the value of x\n",
    "            for i in range (0,self.num_movies):\n",
    "                for k in range (0,self.fea):\n",
    "                    \n",
    "                    keep_x[i][k] = self.x[i][k] - alpha*(self.sum_x(i,k,lamda)+lamda*self.x[i][k])\n",
    "        \n",
    "            #return self.x\n",
    "            \n",
    "            \n",
    "            #set the value of theta\n",
    "            for j in range (0,self.num_names):\n",
    "                for k in range (0,self.fea):\n",
    "                    \n",
    "                    keep_theta[j][k] = self.theta[j][k] - alpha*(self.sum_theta(j,k,lamda)+lamda*self.theta[j][k])\n",
    "            \n",
    "        return self.x,self.theta"
   ]
  },
  {
   "cell_type": "code",
   "execution_count": 104,
   "metadata": {
    "collapsed": false
   },
   "outputs": [
    {
     "name": "stdout",
     "output_type": "stream",
     "text": [
      "[[ 0.46095686  0.86632564]\n",
      " [ 0.61019314  0.4950888 ]\n",
      " [ 0.58328983  0.45696965]\n",
      " [ 0.66860684  0.64274981]]\n",
      "[[ 0.9879846   0.40482138]\n",
      " [ 0.25269147  0.76815264]\n",
      " [ 0.11819937  0.24244692]\n",
      " [ 0.86196826  0.63797472]\n",
      " [ 0.70298826  0.94004524]]\n",
      "[[ 2.5         2.5        -2.5        -2.5       ]\n",
      " [ 2.5         0.          0.         -2.5       ]\n",
      " [ 0.          2.         -2.          0.        ]\n",
      " [-2.25       -2.25        2.75        1.75      ]\n",
      " [-1.66666667 -1.66666667  3.33333333  0.        ]]\n",
      "x [[-1.62123519  0.24491369]\n",
      " [-0.95183934  1.47222362]\n",
      " [-1.29176451  0.16989634]\n",
      " [ 1.5143986   0.16051189]\n",
      " [ 1.40545643  0.78321415]]\n",
      "theta [[-1.51993621  0.6767139 ]\n",
      " [-1.4815745   0.44399398]\n",
      " [ 1.70572687  1.17580842]\n",
      " [ 1.32333875 -0.87016126]]\n"
     ]
    }
   ],
   "source": [
    "number_feature = 2\n",
    "\n",
    "guess_theta = np.random.uniform(0.01,1,[len(names),number_feature])\n",
    "guess_x = np.random.uniform(0.01,1,[len(movies),number_feature])\n",
    "\n",
    "linear_obj = LinearRegression(has_rating.T,rating.T,number_feature,0.01,names,movies,guess_theta,guess_x)\n",
    "result_x, result_theta = linear_obj.gradient_descent(0.05,0.01)\n",
    "\n",
    "print \"x\", result_x\n",
    "print \"theta\", result_theta"
   ]
  },
  {
   "cell_type": "code",
   "execution_count": null,
   "metadata": {
    "collapsed": true
   },
   "outputs": [],
   "source": []
  },
  {
   "cell_type": "code",
   "execution_count": 105,
   "metadata": {
    "collapsed": false
   },
   "outputs": [
    {
     "name": "stdout",
     "output_type": "stream",
     "text": [
      "[[ 5.13  5.01  0.02  0.14]\n",
      " [ 4.94  4.56  2.61 -0.04]\n",
      " [ 4.08  3.99 -0.    0.14]\n",
      " [ 0.06  0.08  5.02  4.11]\n",
      " [ 0.06 -0.07  4.98  2.85]]\n"
     ]
    }
   ],
   "source": [
    "out = np.zeros((len(movies),len(names)))\n",
    "for i in range(0,len(movies)):\n",
    "            for j in range(0,len(names)):\n",
    "                    out[i][j] = float(\"{0:.2f}\".format(float((np.dot(result_theta[j].T,result_x[i])))+float((average[i]))))\n",
    "print out"
   ]
  },
  {
   "cell_type": "code",
   "execution_count": null,
   "metadata": {
    "collapsed": true
   },
   "outputs": [],
   "source": []
  }
 ],
 "metadata": {
  "kernelspec": {
   "display_name": "Python 2",
   "language": "python",
   "name": "python2"
  },
  "language_info": {
   "codemirror_mode": {
    "name": "ipython",
    "version": 2
   },
   "file_extension": ".py",
   "mimetype": "text/x-python",
   "name": "python",
   "nbconvert_exporter": "python",
   "pygments_lexer": "ipython2",
   "version": "2.7.10"
  }
 },
 "nbformat": 4,
 "nbformat_minor": 0
}
