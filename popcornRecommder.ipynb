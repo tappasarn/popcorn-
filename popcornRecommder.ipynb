{
 "cells": [
  {
   "cell_type": "code",
   "execution_count": 8,
   "metadata": {
    "collapsed": false
   },
   "outputs": [],
   "source": [
    "import numpy as np\n",
    "from scipy.optimize import minimize\n",
    "np.set_printoptions(threshold='nan')"
   ]
  },
  {
   "cell_type": "markdown",
   "metadata": {},
   "source": [
    "## prepare data set\n",
    "    - this bloc is for preparing the data matrix has_rating[i,j] 1 if a paticular user has rated a particular movie, 0 otherwise. Rating[i,j] real is rating that given by particular users **value exist if and only if coresponding has_rating[i,j]==1\n",
    "    - number of users can be optain by len(names) and number of movies can be optain by len(movies)"
   ]
  },
  {
   "cell_type": "code",
   "execution_count": 9,
   "metadata": {
    "collapsed": false
   },
   "outputs": [
    {
     "name": "stdout",
     "output_type": "stream",
     "text": [
      "name ['Alice', 'Bob', 'Carol', 'Dave', 'eve', 'time']\n",
      "movies ['love', 'Romance', 'Cute', 'Nonstop', 'sword', 'iron man', 'the inturn']\n",
      "has_rating [[ 1.  1.  1.  1.  0.  0.]\n",
      " [ 1.  0.  0.  1.  0.  0.]\n",
      " [ 0.  1.  1.  0.  0.  0.]\n",
      " [ 1.  1.  1.  1.  0.  0.]\n",
      " [ 1.  1.  1.  0.  0.  1.]\n",
      " [ 0.  0.  0.  0.  1.  0.]\n",
      " [ 1.  0.  0.  1.  0.  1.]]\n",
      "rating [[ 5.  5.  0.  0.  0.  0.]\n",
      " [ 5.  0.  0.  0.  0.  0.]\n",
      " [ 0.  4.  0.  0.  0.  0.]\n",
      " [ 0.  0.  5.  4.  0.  0.]\n",
      " [ 0.  0.  5.  0.  0.  5.]\n",
      " [ 0.  0.  0.  0.  5.  0.]\n",
      " [ 3.  0.  0.  3.  0.  3.]]\n"
     ]
    }
   ],
   "source": [
    "import StringIO\n",
    "import csv\n",
    "with open('resource - Sheet1 (2).csv') as f:\n",
    "    s = StringIO.StringIO(f.read()) \n",
    "    reader = csv.reader(s, delimiter=',')\n",
    "    raw = [row for row in reader]\n",
    "\n",
    "def get_names(raw):\n",
    "    return raw[2][2:]\n",
    "\n",
    "def get_movies(raw):\n",
    "    movies = []\n",
    "    for i in range(3, len(raw)):\n",
    "        movies.append(raw[i][1])\n",
    "    return movies\n",
    "\n",
    "def get_rating(raw):\n",
    "    \n",
    "    names = get_names(raw)\n",
    "    movies = get_movies(raw)\n",
    "    name_offset = 2\n",
    "    movies_offset = 3\n",
    "    \n",
    "    n_names = len(names)\n",
    "    n_movies = len(movies)\n",
    "\n",
    "    has_rating = np.zeros((n_names, n_movies))\n",
    "    rating = np.zeros((n_names, n_movies))\n",
    "    \n",
    "    for ir in range(n_movies):\n",
    "        \n",
    "        this_row = raw[movies_offset + ir]\n",
    "\n",
    "        for ip in range(n_names):\n",
    "            \n",
    "            this_cell =  this_row[name_offset + ip]\n",
    "            hr = this_cell.isdigit()\n",
    "            has_rating[ip, ir] = 1 if hr else 0\n",
    "            if hr:\n",
    "                rating[ip, ir] = int(this_cell)\n",
    "                \n",
    "    return names, movies, has_rating, rating\n",
    "\n",
    "names, movies, has_rating, rating = get_rating(raw)\n",
    "\n",
    "print \"name\", names\n",
    "print \"movies\", movies\n",
    "print \"has_rating\", has_rating.T\n",
    "print \"rating\", rating.T"
   ]
  },
  {
   "cell_type": "markdown",
   "metadata": {},
   "source": [
    "## Implementation of Detail Mean Normalization\n",
    "    - the seection below here is implemented to handle the case of newly added user that has never rated any movie before \n",
    "    - notice that in our data set we have Eve who never rate any movie so we can think of her as newly added user"
   ]
  },
  {
   "cell_type": "code",
   "execution_count": 10,
   "metadata": {
    "collapsed": false
   },
   "outputs": [
    {
     "name": "stdout",
     "output_type": "stream",
     "text": [
      "[[ 2.5 ]\n",
      " [ 2.5 ]\n",
      " [ 2.  ]\n",
      " [ 2.25]\n",
      " [ 2.5 ]\n",
      " [ 5.  ]\n",
      " [ 3.  ]]\n"
     ]
    }
   ],
   "source": [
    "# init the average matrix\n",
    "average = np.zeros((len(movies),1))\n",
    "\n",
    "# find average value for each row \n",
    "for i in range (0,len(movies)):\n",
    "    sum_each_row = 0\n",
    "    count_num = 0\n",
    "    \n",
    "    for j in range (0,len(names)):\n",
    "        \n",
    "        if has_rating.T[i][j] == 1:\n",
    "            sum_each_row = sum_each_row + rating.T[i][j]\n",
    "            count_num = count_num+1\n",
    "            \n",
    "    average[i][0] = sum_each_row/count_num\n",
    "    \n",
    "print average"
   ]
  },
  {
   "cell_type": "markdown",
   "metadata": {},
   "source": [
    "# running data after Implementation of Detail Mean Normalization\n",
    "    - on the section below here we re-run our main again with the new rating matrix  "
   ]
  },
  {
   "cell_type": "code",
   "execution_count": 11,
   "metadata": {
    "collapsed": false
   },
   "outputs": [
    {
     "name": "stdout",
     "output_type": "stream",
     "text": [
      "original rating [[ 5.  5.  0.  0.  0.  0.]\n",
      " [ 5.  0.  0.  0.  0.  0.]\n",
      " [ 0.  4.  0.  0.  0.  0.]\n",
      " [ 0.  0.  5.  4.  0.  0.]\n",
      " [ 0.  0.  5.  0.  0.  5.]\n",
      " [ 0.  0.  0.  0.  5.  0.]\n",
      " [ 3.  0.  0.  3.  0.  3.]]\n",
      "rating after DMN [[ 2.5   2.5  -2.5  -2.5   0.    0.  ]\n",
      " [ 2.5   0.    0.   -2.5   0.    0.  ]\n",
      " [ 0.    2.   -2.    0.    0.    0.  ]\n",
      " [-2.25 -2.25  2.75  1.75  0.    0.  ]\n",
      " [-2.5  -2.5   2.5   0.    0.    2.5 ]\n",
      " [ 0.    0.    0.    0.    0.    0.  ]\n",
      " [ 0.    0.    0.    0.    0.    0.  ]]\n"
     ]
    }
   ],
   "source": [
    "print \"original rating\",rating.T\n",
    "\n",
    "# re-init value for rating matrix\n",
    "for i in range (0,len(movies)):\n",
    "    for j in range (0,len(names)):\n",
    "        if has_rating.T[i][j] == 1:\n",
    "            rating.T[i][j] = rating.T[i][j] - average[i]\n",
    "print \"rating after DMN\",rating.T "
   ]
  },
  {
   "cell_type": "markdown",
   "metadata": {},
   "source": [
    "## Getting the best weight\n",
    "    - start Linear Regression class below here"
   ]
  },
  {
   "cell_type": "code",
   "execution_count": 12,
   "metadata": {
    "collapsed": true
   },
   "outputs": [],
   "source": [
    "class LinearRegression: \n",
    "    \n",
    "     # init all the data so it can easily accessed by all methods\n",
    "    def __init__(self,has_rating,real_rating,fea,lamda,names,movies,theta,x):\n",
    "        \n",
    "        #has_rating and real_rating here are already transposed\n",
    "        self.has_rating = has_rating\n",
    "        self.real_rating = real_rating\n",
    "        self.fea=fea\n",
    "        self.lamda=lamda\n",
    "        self.names = names\n",
    "        self.movies = movies\n",
    "        self.num_names = len(names)\n",
    "        self.num_movies = len(movies) \n",
    "        self.theta = theta\n",
    "        self.x = x\n",
    "    \n",
    "    #this function is use to find the gradient value for x \n",
    "    def sum_x(self,i,k,lamda):\n",
    "        \n",
    "        sum_x_value = 0 \n",
    "        \n",
    "        for j in range (0,self.num_names):\n",
    "            if self.has_rating[i][j] == 1:\n",
    "                sum_x_value = sum_x_value+(np.dot(self.theta[j].T,self.x[i]) - self.real_rating[i][j])*self.theta[j][k]         \n",
    "        \n",
    "        return sum_x_value\n",
    "    \n",
    "    #this function is use to find the gradient value for theta\n",
    "    def sum_theta(self,j,k,lamda):\n",
    "        \n",
    "        sum_theta_value = 0\n",
    "        \n",
    "        for i in range (0,self.num_movies):\n",
    "            if self.has_rating[i][j] == 1:\n",
    "                sum_theta_value = sum_theta_value+(np.dot(self.theta[j].T,self.x[i]) - self.real_rating[i][j])*self.x[i][k]\n",
    "        \n",
    "        return sum_theta_value\n",
    "                \n",
    "                \n",
    "                \n",
    "                \n",
    "    #this function will seek for the x and thata that can meet the local minimum of the function\n",
    "    def gradient_descent(self,alpha,lamda):\n",
    "        \n",
    "        # init keep_array for both x and theta\n",
    "        keep_x = np.zeros((self.num_movies,self.fea))\n",
    "        keep_theta = np.zeros((self.num_names,self.fea))\n",
    "        keep_x = self.x\n",
    "        keep_theta = self.theta\n",
    "        \n",
    "        #for-loop here is used for allowing the convergent of gradient value\n",
    "        for times in range(0,10000):\n",
    "           \n",
    "            #re-assign value to self.x and self.theta\n",
    "            self.x = keep_x\n",
    "            self.theta = keep_theta\n",
    "            \n",
    "            #set the value of x\n",
    "            for i in range (0,self.num_movies):\n",
    "                for k in range (0,self.fea):\n",
    "                    \n",
    "                    keep_x[i][k] = self.x[i][k] - alpha*(self.sum_x(i,k,lamda)+lamda*self.x[i][k])\n",
    "                    \n",
    "            #set the value of theta\n",
    "            for j in range (0,self.num_names):\n",
    "                for k in range (0,self.fea):\n",
    "                    \n",
    "                    keep_theta[j][k] = self.theta[j][k] - alpha*(self.sum_theta(j,k,lamda)+lamda*self.theta[j][k])\n",
    "            \n",
    "            #every 10000 time we reduce the step size\n",
    "            if times == 9000:\n",
    "                alpha = alpha/10\n",
    "            \n",
    "        return self.x,self.theta"
   ]
  },
  {
   "cell_type": "markdown",
   "metadata": {},
   "source": [
    "## Calling linear regression class"
   ]
  },
  {
   "cell_type": "code",
   "execution_count": 13,
   "metadata": {
    "collapsed": false
   },
   "outputs": [
    {
     "name": "stdout",
     "output_type": "stream",
     "text": [
      "x [[ -1.40472245e+00  -8.40681396e-02  -2.33372800e-01   6.65399423e-01\n",
      "    4.81834902e-01]\n",
      " [ -1.30135128e+00  -1.56700637e-01  -3.44102067e-01   6.74526144e-01\n",
      "    6.17035539e-01]\n",
      " [ -1.09636198e+00  -3.19616965e-01   8.69913655e-03   5.14531738e-01\n",
      "    2.06738219e-01]\n",
      " [  1.37040656e+00   4.84666396e-01   4.12537378e-01  -4.61421395e-01\n",
      "    3.18532413e-01]\n",
      " [  1.21458546e+00   9.02673158e-01   1.82559621e-01  -6.17406102e-01\n",
      "   -3.64662354e-01]\n",
      " [  7.73648010e-03   3.19851079e-03   1.66210016e-03   4.52326507e-03\n",
      "    1.01101904e-02]\n",
      " [  3.93057441e-04   1.01734057e-03   2.31825404e-03   4.59190284e-03\n",
      "   -2.80406526e-03]]\n",
      "theta [[ -1.27316862e+00  -4.05527121e-01  -3.49180011e-01   6.17533810e-01\n",
      "    3.84543318e-01]\n",
      " [ -1.34736107e+00  -3.95196936e-01  -2.80887458e-02   6.36913801e-01\n",
      "    2.94328055e-01]\n",
      " [  1.50831213e+00   3.80448719e-01   4.21584382e-01  -5.32053350e-01\n",
      "    2.19083013e-01]\n",
      " [  1.18793024e+00  -6.39861259e-02   2.23580472e-01  -6.41370709e-01\n",
      "   -7.28441278e-01]\n",
      " [ -9.48078962e-04   4.28029968e-03   3.05211094e-03   3.86538737e-03\n",
      "   -2.85908321e-03]\n",
      " [  1.04871876e+00   8.45211220e-01   1.61418477e-01  -5.23990583e-01\n",
      "   -2.78216611e-01]]\n"
     ]
    }
   ],
   "source": [
    "#set the number of feature \n",
    "number_feature = 5\n",
    "\n",
    "#init small guessing value for both theta and x\n",
    "guess_theta = np.random.uniform(0.01,1,[len(names),number_feature])\n",
    "guess_x = np.random.uniform(0.01,1,[len(movies),number_feature])\n",
    "\n",
    "#get object from linear regression class\n",
    "linear_obj = LinearRegression(has_rating.T,rating.T,number_feature,0.01,names,movies,guess_theta,guess_x)\n",
    "\n",
    "#get return from gradient descent function (minimize x and minimize theta)\n",
    "result_x, result_theta = linear_obj.gradient_descent(0.05,0.01)\n",
    "\n",
    "#show them\n",
    "print \"x\", result_x\n",
    "print \"theta\", result_theta"
   ]
  },
  {
   "cell_type": "markdown",
   "metadata": {},
   "source": [
    "## Output array"
   ]
  },
  {
   "cell_type": "code",
   "execution_count": 14,
   "metadata": {
    "collapsed": false
   },
   "outputs": [
    {
     "name": "stdout",
     "output_type": "stream",
     "text": [
      "[[ 5.    5.    0.    0.01  2.5   0.44]\n",
      " [ 4.99  4.94  0.11  0.01  2.5   0.42]\n",
      " [ 3.92  3.99 -0.    0.24  2.    0.25]\n",
      " [ 0.    0.    4.99  4.    2.25  4.32]\n",
      " [ 0.    0.    5.    4.59  2.5   4.99]\n",
      " [ 4.99  4.99  5.01  5.    5.    5.01]\n",
      " [ 3.    3.    3.    3.    3.    3.  ]]\n"
     ]
    }
   ],
   "source": [
    "#out array is the final guessing value from minimize x and theta\n",
    "out = np.zeros((len(movies),len(names)))\n",
    "\n",
    "for i in range(0,len(movies)):\n",
    "            for j in range(0,len(names)):\n",
    "                    out[i][j] = float(\"{0:.2f}\".format(float((np.dot(result_theta[j].T,result_x[i])))+float((average[i]))))\n",
    "print out"
   ]
  },
  {
   "cell_type": "markdown",
   "metadata": {},
   "source": [
    "## Display as Table\n",
    "    -Code below here is use for display the output as table so it is easier to compare the outcome to the real rating"
   ]
  },
  {
   "cell_type": "code",
   "execution_count": 15,
   "metadata": {
    "collapsed": true
   },
   "outputs": [],
   "source": [
    "from IPython.display import HTML\n",
    "\n",
    "class TableCell:\n",
    "    \n",
    "    def __init__(self, text, tc=None, color=None):\n",
    "        self.text = text\n",
    "        self.tc = tc\n",
    "        self.color = color\n",
    "    \n",
    "    def to_html(self):\n",
    "        return '<td>%s</td>'%self.text\n",
    "    \n",
    "def maketable(rating, has_rating, guess, restaurants, names,average):\n",
    "    n_rests = len(restaurants)\n",
    "    n_names = len(names)\n",
    "    tab = np.empty((n_rests+1, n_names+1),dtype='object')\n",
    "    \n",
    "    for irest in range(n_rests):\n",
    "        tab[irest+1,0] = restaurants[irest]\n",
    "\n",
    "    for iname in range(n_names):\n",
    "        tab[0,iname+1] = names[iname]\n",
    "\n",
    "    for irest in range(n_rests):\n",
    "        \n",
    "        for iname in range(n_names):\n",
    "            \n",
    "            if not has_rating[irest, iname]:\n",
    "                tab[irest+1, iname+1] = TableCell('<span style=\"color:red\">%3.2f</span>'%(guess[irest, iname]))\n",
    "            else:\n",
    "                tab[irest+1, iname+1] = TableCell('<span style=\"color:blue\">%3.2f</span><span style=\"color:red\">(%3.2f)</span>'%(rating[irest, iname]+average[irest], guess[irest, iname]))\n",
    "    \n",
    "    #now convert tab array to nice html table\n",
    "    nrow, ncol = tab.shape\n",
    "    t = []\n",
    "    t.append('<table>')\n",
    "    for irow in range(nrow):\n",
    "        t.append('<tr>')\n",
    "        for icol in range(ncol):\n",
    "            cell = tab[irow,icol]\n",
    "            if cell is not None:\n",
    "                if isinstance(cell,TableCell):\n",
    "                    t.append(tab[irow, icol].to_html())\n",
    "                else:\n",
    "                    t.append('<td>')\n",
    "                    t.append(tab[irow, icol])\n",
    "                    t.append('</td>')\n",
    "            else:\n",
    "                t.append('<td></td>')\n",
    "        t.append('</tr>')  \n",
    "    t.append('</table>')\n",
    "    return '\\n'.join(t)"
   ]
  },
  {
   "cell_type": "code",
   "execution_count": 16,
   "metadata": {
    "collapsed": false
   },
   "outputs": [
    {
     "data": {
      "text/html": [
       "<table>\n",
       "<tr>\n",
       "<td></td>\n",
       "<td>\n",
       "Alice\n",
       "</td>\n",
       "<td>\n",
       "Bob\n",
       "</td>\n",
       "<td>\n",
       "Carol\n",
       "</td>\n",
       "<td>\n",
       "Dave\n",
       "</td>\n",
       "<td>\n",
       "eve\n",
       "</td>\n",
       "<td>\n",
       "time\n",
       "</td>\n",
       "</tr>\n",
       "<tr>\n",
       "<td>\n",
       "love\n",
       "</td>\n",
       "<td><span style=\"color:blue\">5.00</span><span style=\"color:red\">(5.00)</span></td>\n",
       "<td><span style=\"color:blue\">5.00</span><span style=\"color:red\">(5.00)</span></td>\n",
       "<td><span style=\"color:blue\">0.00</span><span style=\"color:red\">(0.00)</span></td>\n",
       "<td><span style=\"color:blue\">0.00</span><span style=\"color:red\">(0.01)</span></td>\n",
       "<td><span style=\"color:red\">2.50</span></td>\n",
       "<td><span style=\"color:red\">0.44</span></td>\n",
       "</tr>\n",
       "<tr>\n",
       "<td>\n",
       "Romance\n",
       "</td>\n",
       "<td><span style=\"color:blue\">5.00</span><span style=\"color:red\">(4.99)</span></td>\n",
       "<td><span style=\"color:red\">4.94</span></td>\n",
       "<td><span style=\"color:red\">0.11</span></td>\n",
       "<td><span style=\"color:blue\">0.00</span><span style=\"color:red\">(0.01)</span></td>\n",
       "<td><span style=\"color:red\">2.50</span></td>\n",
       "<td><span style=\"color:red\">0.42</span></td>\n",
       "</tr>\n",
       "<tr>\n",
       "<td>\n",
       "Cute\n",
       "</td>\n",
       "<td><span style=\"color:red\">3.92</span></td>\n",
       "<td><span style=\"color:blue\">4.00</span><span style=\"color:red\">(3.99)</span></td>\n",
       "<td><span style=\"color:blue\">0.00</span><span style=\"color:red\">(-0.00)</span></td>\n",
       "<td><span style=\"color:red\">0.24</span></td>\n",
       "<td><span style=\"color:red\">2.00</span></td>\n",
       "<td><span style=\"color:red\">0.25</span></td>\n",
       "</tr>\n",
       "<tr>\n",
       "<td>\n",
       "Nonstop\n",
       "</td>\n",
       "<td><span style=\"color:blue\">0.00</span><span style=\"color:red\">(0.00)</span></td>\n",
       "<td><span style=\"color:blue\">0.00</span><span style=\"color:red\">(0.00)</span></td>\n",
       "<td><span style=\"color:blue\">5.00</span><span style=\"color:red\">(4.99)</span></td>\n",
       "<td><span style=\"color:blue\">4.00</span><span style=\"color:red\">(4.00)</span></td>\n",
       "<td><span style=\"color:red\">2.25</span></td>\n",
       "<td><span style=\"color:red\">4.32</span></td>\n",
       "</tr>\n",
       "<tr>\n",
       "<td>\n",
       "sword\n",
       "</td>\n",
       "<td><span style=\"color:blue\">0.00</span><span style=\"color:red\">(0.00)</span></td>\n",
       "<td><span style=\"color:blue\">0.00</span><span style=\"color:red\">(0.00)</span></td>\n",
       "<td><span style=\"color:blue\">5.00</span><span style=\"color:red\">(5.00)</span></td>\n",
       "<td><span style=\"color:red\">4.59</span></td>\n",
       "<td><span style=\"color:red\">2.50</span></td>\n",
       "<td><span style=\"color:blue\">5.00</span><span style=\"color:red\">(4.99)</span></td>\n",
       "</tr>\n",
       "<tr>\n",
       "<td>\n",
       "iron man\n",
       "</td>\n",
       "<td><span style=\"color:red\">4.99</span></td>\n",
       "<td><span style=\"color:red\">4.99</span></td>\n",
       "<td><span style=\"color:red\">5.01</span></td>\n",
       "<td><span style=\"color:red\">5.00</span></td>\n",
       "<td><span style=\"color:blue\">5.00</span><span style=\"color:red\">(5.00)</span></td>\n",
       "<td><span style=\"color:red\">5.01</span></td>\n",
       "</tr>\n",
       "<tr>\n",
       "<td>\n",
       "the inturn\n",
       "</td>\n",
       "<td><span style=\"color:blue\">3.00</span><span style=\"color:red\">(3.00)</span></td>\n",
       "<td><span style=\"color:red\">3.00</span></td>\n",
       "<td><span style=\"color:red\">3.00</span></td>\n",
       "<td><span style=\"color:blue\">3.00</span><span style=\"color:red\">(3.00)</span></td>\n",
       "<td><span style=\"color:red\">3.00</span></td>\n",
       "<td><span style=\"color:blue\">3.00</span><span style=\"color:red\">(3.00)</span></td>\n",
       "</tr>\n",
       "</table>"
      ],
      "text/plain": [
       "<IPython.core.display.HTML object>"
      ]
     },
     "execution_count": 16,
     "metadata": {},
     "output_type": "execute_result"
    }
   ],
   "source": [
    "HTML(maketable(rating.T, has_rating.T, out, movies, names,average))"
   ]
  },
  {
   "cell_type": "markdown",
   "metadata": {
    "collapsed": true
   },
   "source": [
    "## Getting recommen list \n",
    "    -recommend movie for particular user\n"
   ]
  },
  {
   "cell_type": "code",
   "execution_count": 24,
   "metadata": {
    "collapsed": false
   },
   "outputs": [
    {
     "name": "stdout",
     "output_type": "stream",
     "text": [
      "[('iron man', 4.9900000000000002), ('Romance', 4.9400000000000004), ('the inturn', 3.0)]\n"
     ]
    }
   ],
   "source": [
    "import operator\n",
    "def recommend(user):\n",
    "    if user in names:\n",
    "        recommend_list = {}\n",
    "        for i in range (0,len(movies)):\n",
    "            if has_rating.T[i][names.index(user)]==0:\n",
    "                recommend_list[str(movies[i])] = out[i][names.index(user)]\n",
    "                #recommend_list.append(out[i][names.index(user)])\n",
    "        print sorted(recommend_list.items(), key=operator.itemgetter(1),reverse=True)\n",
    "        \n",
    "    else: \n",
    "        print \"database does not contain this user\"\n",
    "        \n",
    "recommend(\"Bob\")"
   ]
  }
 ],
 "metadata": {
  "kernelspec": {
   "display_name": "Python 2",
   "language": "python",
   "name": "python2"
  },
  "language_info": {
   "codemirror_mode": {
    "name": "ipython",
    "version": 2
   },
   "file_extension": ".py",
   "mimetype": "text/x-python",
   "name": "python",
   "nbconvert_exporter": "python",
   "pygments_lexer": "ipython2",
   "version": "2.7.10"
  }
 },
 "nbformat": 4,
 "nbformat_minor": 0
}
