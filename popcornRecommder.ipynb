{
 "cells": [
  {
   "cell_type": "code",
   "execution_count": 218,
   "metadata": {
    "collapsed": false
   },
   "outputs": [],
   "source": [
    "import numpy as np\n",
    "from scipy.optimize import minimize\n",
    "np.set_printoptions(threshold='nan')"
   ]
  },
  {
   "cell_type": "markdown",
   "metadata": {},
   "source": [
    "## prepare data set\n",
    "- this bloc is for preparing the data matrix has_rating[i,j] 1 if a paticular user has rated a particular movie, 0. otherwise rating[i,j] real rating that given by particular users **value exist if and only if coresponding has_rating[i,j]==1\n",
    "- number of users can be optain by len(names) and number of movies can be optain by len(movies)"
   ]
  },
  {
   "cell_type": "code",
   "execution_count": 219,
   "metadata": {
    "collapsed": false
   },
   "outputs": [
    {
     "name": "stdout",
     "output_type": "stream",
     "text": [
      "name ['Alice', 'Bob', 'Carol', 'Dave', 'eve']\n",
      "movies ['love', 'Romance', 'Cute', 'Nonstop', 'sword', 'iron man']\n",
      "has_rating [[ 1.  1.  1.  1.  0.]\n",
      " [ 1.  0.  0.  1.  0.]\n",
      " [ 0.  1.  1.  0.  0.]\n",
      " [ 1.  1.  1.  1.  0.]\n",
      " [ 1.  1.  1.  0.  0.]\n",
      " [ 0.  0.  0.  0.  1.]]\n",
      "rating [[ 5.  5.  0.  0.  0.]\n",
      " [ 5.  0.  0.  0.  0.]\n",
      " [ 0.  4.  0.  0.  0.]\n",
      " [ 0.  0.  5.  4.  0.]\n",
      " [ 0.  0.  5.  0.  0.]\n",
      " [ 0.  0.  0.  0.  5.]]\n"
     ]
    }
   ],
   "source": [
    "import StringIO\n",
    "import csv\n",
    "with open('resource - Sheet1 (2).csv') as f:\n",
    "    s = StringIO.StringIO(f.read()) \n",
    "    reader = csv.reader(s, delimiter=',')\n",
    "    raw = [row for row in reader]\n",
    "\n",
    "def get_names(raw):\n",
    "    return raw[2][2:]\n",
    "\n",
    "def get_movies(raw):\n",
    "    movies = []\n",
    "    for i in range(3, len(raw)):\n",
    "        movies.append(raw[i][1])\n",
    "    return movies\n",
    "\n",
    "def get_rating(raw):\n",
    "    \n",
    "    names = get_names(raw)\n",
    "    movies = get_movies(raw)\n",
    "    name_offset = 2\n",
    "    movies_offset = 3\n",
    "    \n",
    "    n_names = len(names)\n",
    "    n_movies = len(movies)\n",
    "\n",
    "    has_rating = np.zeros((n_names, n_movies))\n",
    "    rating = np.zeros((n_names, n_movies))\n",
    "    \n",
    "    for ir in range(n_movies):\n",
    "        \n",
    "        this_row = raw[movies_offset + ir]\n",
    "\n",
    "        for ip in range(n_names):\n",
    "            \n",
    "            this_cell =  this_row[name_offset + ip]\n",
    "            hr = this_cell.isdigit()\n",
    "            has_rating[ip, ir] = 1 if hr else 0\n",
    "            if hr:\n",
    "                rating[ip, ir] = int(this_cell)\n",
    "                \n",
    "    return names, movies, has_rating, rating\n",
    "\n",
    "names, movies, has_rating, rating = get_rating(raw)\n",
    "\n",
    "print \"name\", names\n",
    "print \"movies\", movies\n",
    "print \"has_rating\", has_rating.T\n",
    "print \"rating\", rating.T"
   ]
  },
  {
   "cell_type": "markdown",
   "metadata": {},
   "source": [
    "## Implementation of Detail Mean Normalization\n",
    "- the seection below here is implemented to handle the case of newly added user that has never rated any movie before \n",
    "- notice that in our data set we have Eve who never rate any movie so we can think of her as newly added user"
   ]
  },
  {
   "cell_type": "code",
   "execution_count": 220,
   "metadata": {
    "collapsed": false
   },
   "outputs": [
    {
     "name": "stdout",
     "output_type": "stream",
     "text": [
      "[[ 2.5       ]\n",
      " [ 2.5       ]\n",
      " [ 2.        ]\n",
      " [ 2.25      ]\n",
      " [ 1.66666667]\n",
      " [ 5.        ]]\n"
     ]
    }
   ],
   "source": [
    "# init the average matrix\n",
    "average = np.zeros((len(movies),1))\n",
    "\n",
    "# find average value for each row \n",
    "for i in range (0,len(movies)):\n",
    "    sum_each_row = 0\n",
    "    count_num = 0\n",
    "    \n",
    "    for j in range (0,len(names)):\n",
    "        \n",
    "        if has_rating.T[i][j] == 1:\n",
    "            sum_each_row = sum_each_row + rating.T[i][j]\n",
    "            count_num = count_num+1\n",
    "            \n",
    "    average[i][0] = sum_each_row/count_num\n",
    "    \n",
    "print average"
   ]
  },
  {
   "cell_type": "markdown",
   "metadata": {},
   "source": [
    "# running data after Implementation of Detail Mean Normalization\n",
    "- on the section below here we re-run our main again with the new rating matrix  "
   ]
  },
  {
   "cell_type": "code",
   "execution_count": 221,
   "metadata": {
    "collapsed": false
   },
   "outputs": [
    {
     "name": "stdout",
     "output_type": "stream",
     "text": [
      "original rating [[ 5.  5.  0.  0.  0.]\n",
      " [ 5.  0.  0.  0.  0.]\n",
      " [ 0.  4.  0.  0.  0.]\n",
      " [ 0.  0.  5.  4.  0.]\n",
      " [ 0.  0.  5.  0.  0.]\n",
      " [ 0.  0.  0.  0.  5.]]\n",
      "rating after DMN [[ 2.5         2.5        -2.5        -2.5         0.        ]\n",
      " [ 2.5         0.          0.         -2.5         0.        ]\n",
      " [ 0.          2.         -2.          0.          0.        ]\n",
      " [-2.25       -2.25        2.75        1.75        0.        ]\n",
      " [-1.66666667 -1.66666667  3.33333333  0.          0.        ]\n",
      " [ 0.          0.          0.          0.          0.        ]]\n"
     ]
    }
   ],
   "source": [
    "print \"original rating\",rating.T\n",
    "# re-init value for rating matrix\n",
    "for i in range (0,len(movies)):\n",
    "    for j in range (0,len(names)):\n",
    "        if has_rating.T[i][j] == 1:\n",
    "            rating.T[i][j] = rating.T[i][j] - average[i]\n",
    "print \"rating after DMN\",rating.T "
   ]
  },
  {
   "cell_type": "markdown",
   "metadata": {},
   "source": [
    "## Getting the best weight\n",
    "- start Linear Regression class below here"
   ]
  },
  {
   "cell_type": "code",
   "execution_count": 222,
   "metadata": {
    "collapsed": true
   },
   "outputs": [],
   "source": [
    "class LinearRegression: \n",
    "    \n",
    "     # init all the data so it can easily accessed by all methods\n",
    "    def __init__(self,has_rating,real_rating,fea,lamda,names,movies,theta,x):\n",
    "        \n",
    "        #has_rating and real_rating here are already transposed\n",
    "        self.has_rating = has_rating\n",
    "        self.real_rating = real_rating\n",
    "        self.fea=fea\n",
    "        self.lamda=lamda\n",
    "        self.names = names\n",
    "        self.movies = movies\n",
    "        self.num_names = len(names)\n",
    "        self.num_movies = len(movies) \n",
    "        self.theta = theta\n",
    "        self.x = x\n",
    "    \n",
    "    #this function is use to find the gradient value for x \n",
    "    def sum_x(self,i,k,lamda):\n",
    "        \n",
    "        sum_x_value = 0 \n",
    "        \n",
    "        for j in range (0,self.num_names):\n",
    "            if self.has_rating[i][j] == 1:\n",
    "                sum_x_value = sum_x_value+(np.dot(self.theta[j].T,self.x[i]) - self.real_rating[i][j])*self.theta[j][k]         \n",
    "        \n",
    "        return sum_x_value\n",
    "    \n",
    "    #this function is use to find the gradient value for theta\n",
    "    def sum_theta(self,j,k,lamda):\n",
    "        \n",
    "        sum_theta_value = 0\n",
    "        \n",
    "        for i in range (0,self.num_movies):\n",
    "            if self.has_rating[i][j] == 1:\n",
    "                sum_theta_value = sum_theta_value+(np.dot(self.theta[j].T,self.x[i]) - self.real_rating[i][j])*self.x[i][k]\n",
    "        \n",
    "        return sum_theta_value\n",
    "                \n",
    "                \n",
    "                \n",
    "                \n",
    "    #this function will seek for the x and thata that can meet the local minimum of the function\n",
    "    def gradient_descent(self,alpha,lamda):\n",
    "        \n",
    "        # init keep_array for both x and theta\n",
    "        keep_x = np.zeros((self.num_movies,self.fea))\n",
    "        keep_theta = np.zeros((self.num_names,self.fea))\n",
    "        keep_x = self.x\n",
    "        keep_theta = self.theta\n",
    "        \n",
    "        #for-loop here is used for allowing the convergent of gradient value\n",
    "        for times in range(0,30000):\n",
    "           \n",
    "            #re-assign value to self.x and self.theta\n",
    "            self.x = keep_x\n",
    "            self.theta = keep_theta\n",
    "            \n",
    "            #set the value of x\n",
    "            for i in range (0,self.num_movies):\n",
    "                for k in range (0,self.fea):\n",
    "                    \n",
    "                    keep_x[i][k] = self.x[i][k] - alpha*(self.sum_x(i,k,lamda)+lamda*self.x[i][k])\n",
    "                    \n",
    "            #set the value of theta\n",
    "            for j in range (0,self.num_names):\n",
    "                for k in range (0,self.fea):\n",
    "                    \n",
    "                    keep_theta[j][k] = self.theta[j][k] - alpha*(self.sum_theta(j,k,lamda)+lamda*self.theta[j][k])\n",
    "            if times%10000 == 0:\n",
    "                alpha = alpha/2\n",
    "            \n",
    "        return self.x,self.theta"
   ]
  },
  {
   "cell_type": "code",
   "execution_count": 223,
   "metadata": {
    "collapsed": false
   },
   "outputs": [
    {
     "name": "stdout",
     "output_type": "stream",
     "text": [
      "[[ 0.28879781  0.59589681]\n",
      " [ 0.42002587  0.10578868]\n",
      " [ 0.90401572  0.66978667]\n",
      " [ 0.53139172  0.58583737]\n",
      " [ 0.0537247   0.59346228]]\n",
      "[[ 0.77020772  0.11964985]\n",
      " [ 0.55174785  0.54197629]\n",
      " [ 0.3183623   0.85351009]\n",
      " [ 0.02621159  0.28070347]\n",
      " [ 0.34420386  0.91739891]\n",
      " [ 0.24493853  0.84002799]]\n",
      "[[ 2.5         2.5        -2.5        -2.5         0.        ]\n",
      " [ 2.5         0.          0.         -2.5         0.        ]\n",
      " [ 0.          2.         -2.          0.          0.        ]\n",
      " [-2.25       -2.25        2.75        1.75        0.        ]\n",
      " [-1.66666667 -1.66666667  3.33333333  0.          0.        ]\n",
      " [ 0.          0.          0.          0.          0.        ]]\n",
      "x [[ 1.16417412 -1.13532961]\n",
      " [ 1.2210111  -1.05740427]\n",
      " [ 0.88652171 -0.92144869]\n",
      " [-0.63743219  1.3169236 ]\n",
      " [ 0.35028343  1.66305884]\n",
      " [ 0.17822063  0.38575495]]\n",
      "theta [[ 0.98591376 -1.21227235]\n",
      " [ 0.98157686 -1.21280367]\n",
      " [-0.1525688   2.02766882]\n",
      " [-1.51848226  0.61399373]\n",
      " [-0.08926711  0.04124209]]\n"
     ]
    }
   ],
   "source": [
    "#main start here\n",
    "\n",
    "#set the number of feature \n",
    "number_feature = 2\n",
    "\n",
    "#init small guessing value for both theta and x\n",
    "#next time try np.zeros for both theta and x\n",
    "guess_theta = np.random.uniform(0.01,1,[len(names),number_feature])\n",
    "guess_x = np.random.uniform(0.01,1,[len(movies),number_feature])\n",
    "\n",
    "#get object from linear regression class\n",
    "linear_obj = LinearRegression(has_rating.T,rating.T,number_feature,0.01,names,movies,guess_theta,guess_x)\n",
    "\n",
    "#get return from gradient descent function (minimize x and minimize theta)\n",
    "result_x, result_theta = linear_obj.gradient_descent(0.005,0.01)\n",
    "\n",
    "#show them\n",
    "print \"x\", result_x\n",
    "print \"theta\", result_theta"
   ]
  },
  {
   "cell_type": "code",
   "execution_count": 224,
   "metadata": {
    "collapsed": false
   },
   "outputs": [
    {
     "name": "stdout",
     "output_type": "stream",
     "text": [
      "[[ 5.02  5.02  0.02  0.04  2.35]\n",
      " [ 4.99  4.98  0.17 -0.    2.35]\n",
      " [ 3.99  3.99 -0.    0.09  1.88]\n",
      " [ 0.03  0.03  5.02  4.03  2.36]\n",
      " [-0.   -0.01  4.99  2.16  1.7 ]\n",
      " [ 4.71  4.71  5.75  4.97  5.  ]]\n"
     ]
    }
   ],
   "source": [
    "#out array is the final guessing value from minimize x an\n",
    "out = np.zeros((len(movies),len(names)))\n",
    "for i in range(0,len(movies)):\n",
    "            for j in range(0,len(names)):\n",
    "                    out[i][j] = float(\"{0:.2f}\".format(float((np.dot(result_theta[j].T,result_x[i])))+float((average[i]))))\n",
    "print out"
   ]
  },
  {
   "cell_type": "markdown",
   "metadata": {},
   "source": [
    "Display code from aj piti homework"
   ]
  },
  {
   "cell_type": "code",
   "execution_count": 225,
   "metadata": {
    "collapsed": true
   },
   "outputs": [],
   "source": [
    "from IPython.display import HTML\n",
    "\n",
    "class TableCell:\n",
    "    \n",
    "    def __init__(self, text, tc=None, color=None):\n",
    "        self.text = text\n",
    "        self.tc = tc\n",
    "        self.color = color\n",
    "    \n",
    "    def to_html(self):\n",
    "        return '<td>%s</td>'%self.text\n",
    "    \n",
    "def maketable(rating, has_rating, guess, restaurants, names,average):\n",
    "    n_rests = len(restaurants)\n",
    "    n_names = len(names)\n",
    "    tab = np.empty((n_rests+1, n_names+1),dtype='object')\n",
    "    #print tab.shape\n",
    "    #print has_rating\n",
    "    #print rating\n",
    "    for irest in range(n_rests):\n",
    "        tab[irest+1,0] = restaurants[irest]\n",
    "\n",
    "    for iname in range(n_names):\n",
    "        tab[0,iname+1] = names[iname]\n",
    "\n",
    "    for irest in range(n_rests):\n",
    "        #print \"irest\",irest\n",
    "        for iname in range(n_names):\n",
    "            #print \"iname\", iname\n",
    "            if not has_rating[irest, iname]:\n",
    "                tab[irest+1, iname+1] = TableCell('<span style=\"color:red\">%3.2f</span>'%(guess[irest, iname]))\n",
    "            else:\n",
    "                tab[irest+1, iname+1] = TableCell('<span style=\"color:blue\">%3.2f</span><span style=\"color:red\">(%3.2f)</span>'%(rating[irest, iname]+average[irest], guess[irest, iname]))\n",
    "    #now convert tab array to nice html table\n",
    "    nrow, ncol = tab.shape\n",
    "    t = []\n",
    "    t.append('<table>')\n",
    "    for irow in range(nrow):\n",
    "        t.append('<tr>')\n",
    "        for icol in range(ncol):\n",
    "            cell = tab[irow,icol]\n",
    "            if cell is not None:\n",
    "                if isinstance(cell,TableCell):\n",
    "                    t.append(tab[irow, icol].to_html())\n",
    "                else:\n",
    "                    t.append('<td>')\n",
    "                    t.append(tab[irow, icol])\n",
    "                    t.append('</td>')\n",
    "            else:\n",
    "                t.append('<td></td>')\n",
    "        t.append('</tr>')  \n",
    "    t.append('</table>')\n",
    "    return '\\n'.join(t)"
   ]
  },
  {
   "cell_type": "code",
   "execution_count": 226,
   "metadata": {
    "collapsed": false
   },
   "outputs": [
    {
     "data": {
      "text/html": [
       "<table>\n",
       "<tr>\n",
       "<td></td>\n",
       "<td>\n",
       "Alice\n",
       "</td>\n",
       "<td>\n",
       "Bob\n",
       "</td>\n",
       "<td>\n",
       "Carol\n",
       "</td>\n",
       "<td>\n",
       "Dave\n",
       "</td>\n",
       "<td>\n",
       "eve\n",
       "</td>\n",
       "</tr>\n",
       "<tr>\n",
       "<td>\n",
       "love\n",
       "</td>\n",
       "<td><span style=\"color:blue\">5.00</span><span style=\"color:red\">(5.02)</span></td>\n",
       "<td><span style=\"color:blue\">5.00</span><span style=\"color:red\">(5.02)</span></td>\n",
       "<td><span style=\"color:blue\">0.00</span><span style=\"color:red\">(0.02)</span></td>\n",
       "<td><span style=\"color:blue\">0.00</span><span style=\"color:red\">(0.04)</span></td>\n",
       "<td><span style=\"color:red\">2.35</span></td>\n",
       "</tr>\n",
       "<tr>\n",
       "<td>\n",
       "Romance\n",
       "</td>\n",
       "<td><span style=\"color:blue\">5.00</span><span style=\"color:red\">(4.99)</span></td>\n",
       "<td><span style=\"color:red\">4.98</span></td>\n",
       "<td><span style=\"color:red\">0.17</span></td>\n",
       "<td><span style=\"color:blue\">0.00</span><span style=\"color:red\">(-0.00)</span></td>\n",
       "<td><span style=\"color:red\">2.35</span></td>\n",
       "</tr>\n",
       "<tr>\n",
       "<td>\n",
       "Cute\n",
       "</td>\n",
       "<td><span style=\"color:red\">3.99</span></td>\n",
       "<td><span style=\"color:blue\">4.00</span><span style=\"color:red\">(3.99)</span></td>\n",
       "<td><span style=\"color:blue\">0.00</span><span style=\"color:red\">(-0.00)</span></td>\n",
       "<td><span style=\"color:red\">0.09</span></td>\n",
       "<td><span style=\"color:red\">1.88</span></td>\n",
       "</tr>\n",
       "<tr>\n",
       "<td>\n",
       "Nonstop\n",
       "</td>\n",
       "<td><span style=\"color:blue\">0.00</span><span style=\"color:red\">(0.03)</span></td>\n",
       "<td><span style=\"color:blue\">0.00</span><span style=\"color:red\">(0.03)</span></td>\n",
       "<td><span style=\"color:blue\">5.00</span><span style=\"color:red\">(5.02)</span></td>\n",
       "<td><span style=\"color:blue\">4.00</span><span style=\"color:red\">(4.03)</span></td>\n",
       "<td><span style=\"color:red\">2.36</span></td>\n",
       "</tr>\n",
       "<tr>\n",
       "<td>\n",
       "sword\n",
       "</td>\n",
       "<td><span style=\"color:blue\">0.00</span><span style=\"color:red\">(-0.00)</span></td>\n",
       "<td><span style=\"color:blue\">0.00</span><span style=\"color:red\">(-0.01)</span></td>\n",
       "<td><span style=\"color:blue\">5.00</span><span style=\"color:red\">(4.99)</span></td>\n",
       "<td><span style=\"color:red\">2.16</span></td>\n",
       "<td><span style=\"color:red\">1.70</span></td>\n",
       "</tr>\n",
       "<tr>\n",
       "<td>\n",
       "iron man\n",
       "</td>\n",
       "<td><span style=\"color:red\">4.71</span></td>\n",
       "<td><span style=\"color:red\">4.71</span></td>\n",
       "<td><span style=\"color:red\">5.75</span></td>\n",
       "<td><span style=\"color:red\">4.97</span></td>\n",
       "<td><span style=\"color:blue\">5.00</span><span style=\"color:red\">(5.00)</span></td>\n",
       "</tr>\n",
       "</table>"
      ],
      "text/plain": [
       "<IPython.core.display.HTML object>"
      ]
     },
     "execution_count": 226,
     "metadata": {},
     "output_type": "execute_result"
    }
   ],
   "source": [
    "HTML(maketable(rating.T, has_rating.T, out, movies, names,average))"
   ]
  },
  {
   "cell_type": "code",
   "execution_count": null,
   "metadata": {
    "collapsed": true
   },
   "outputs": [],
   "source": []
  }
 ],
 "metadata": {
  "kernelspec": {
   "display_name": "Python 2",
   "language": "python",
   "name": "python2"
  },
  "language_info": {
   "codemirror_mode": {
    "name": "ipython",
    "version": 2
   },
   "file_extension": ".py",
   "mimetype": "text/x-python",
   "name": "python",
   "nbconvert_exporter": "python",
   "pygments_lexer": "ipython2",
   "version": "2.7.10"
  }
 },
 "nbformat": 4,
 "nbformat_minor": 0
}
