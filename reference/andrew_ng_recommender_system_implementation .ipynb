{
 "cells": [
  {
   "cell_type": "code",
   "execution_count": 19,
   "metadata": {
    "collapsed": false
   },
   "outputs": [],
   "source": [
    "import numpy as np\n",
    "from scipy.optimize import minimize\n",
    "np.set_printoptions(threshold='nan')"
   ]
  },
  {
   "cell_type": "markdown",
   "metadata": {},
   "source": [
    "## prepare data set\n",
    "- this bloc is for preparing the data matrix has_rating[i,j] 1 if a paticular user has rated a particular movie, 0. otherwise rating[i,j] real rating that given by particular users **value exist if and only if coresponding has_rating[i,j]==1\n",
    "- number of users can be optain by len(names) and number of movies can be optain by len(movies)"
   ]
  },
  {
   "cell_type": "code",
   "execution_count": 20,
   "metadata": {
    "collapsed": false,
    "scrolled": true
   },
   "outputs": [
    {
     "name": "stdout",
     "output_type": "stream",
     "text": [
      "name ['Alice', 'Bob', 'Carol', 'Dave', 'Eve']\n",
      "movies ['love', 'Romance', 'Cute', 'Nonstop', 'sword', 'iron man']\n",
      "has_rating [[ 1.  1.  1.  1.  0.]\n",
      " [ 1.  0.  0.  1.  0.]\n",
      " [ 0.  1.  1.  0.  0.]\n",
      " [ 1.  1.  1.  1.  0.]\n",
      " [ 1.  1.  1.  0.  0.]\n",
      " [ 0.  0.  0.  0.  1.]]\n",
      "rating [[ 5.  5.  0.  0.  0.]\n",
      " [ 5.  0.  0.  0.  0.]\n",
      " [ 0.  4.  0.  0.  0.]\n",
      " [ 0.  0.  5.  4.  0.]\n",
      " [ 0.  0.  5.  0.  0.]\n",
      " [ 0.  0.  0.  0.  1.]]\n"
     ]
    }
   ],
   "source": [
    "import StringIO\n",
    "import csv\n",
    "with open('resource - Sheet1.csv') as f:\n",
    "    s = StringIO.StringIO(f.read()) \n",
    "    reader = csv.reader(s, delimiter=',')\n",
    "    raw = [row for row in reader]\n",
    "\n",
    "def get_names(raw):\n",
    "    return raw[2][2:]\n",
    "\n",
    "def get_movies(raw):\n",
    "    movies = []\n",
    "    for i in range(3, len(raw)):\n",
    "        movies.append(raw[i][1])\n",
    "    return movies\n",
    "\n",
    "def get_rating(raw):\n",
    "    \n",
    "    names = get_names(raw)\n",
    "    movies = get_movies(raw)\n",
    "    name_offset = 2\n",
    "    movies_offset = 3\n",
    "    \n",
    "    n_names = len(names)\n",
    "    n_movies = len(movies)\n",
    "\n",
    "    has_rating = np.zeros((n_names, n_movies))\n",
    "    rating = np.zeros((n_names, n_movies))\n",
    "    \n",
    "    for ir in range(n_movies):\n",
    "        \n",
    "        this_row = raw[movies_offset + ir]\n",
    "\n",
    "        for ip in range(n_names):\n",
    "            \n",
    "            this_cell =  this_row[name_offset + ip]\n",
    "            hr = this_cell.isdigit()\n",
    "            has_rating[ip, ir] = 1 if hr else 0\n",
    "            if hr:\n",
    "                rating[ip, ir] = int(this_cell)\n",
    "                \n",
    "    return names, movies, has_rating, rating\n",
    "\n",
    "names, movies, has_rating, rating = get_rating(raw)\n",
    "\n",
    "print \"name\", names\n",
    "print \"movies\", movies\n",
    "print \"has_rating\", has_rating.T\n",
    "print \"rating\", rating.T\n",
    "\n"
   ]
  },
  {
   "cell_type": "markdown",
   "metadata": {},
   "source": [
    "big_theta is when we assume the users have given thier preferences to us "
   ]
  },
  {
   "cell_type": "code",
   "execution_count": 21,
   "metadata": {
    "collapsed": false
   },
   "outputs": [
    {
     "name": "stdout",
     "output_type": "stream",
     "text": [
      "[[ 5.  0.]\n",
      " [ 5.  0.]\n",
      " [ 0.  5.]\n",
      " [ 0.  5.]]\n"
     ]
    }
   ],
   "source": [
    "big_theta = np.array([[5.,0],[5.,0],[0.,5],[0.,5]])\n",
    "print big_theta"
   ]
  },
  {
   "cell_type": "markdown",
   "metadata": {},
   "source": [
    "## Implementation of Detail Mean Normalization\n",
    "- the seection below here is implemented to handle the case of newly added user that has never rated any movie before \n",
    "- notice that in our data set we have Eve who never rate any movie so we can think of her as newly added user"
   ]
  },
  {
   "cell_type": "code",
   "execution_count": 22,
   "metadata": {
    "collapsed": false
   },
   "outputs": [
    {
     "name": "stdout",
     "output_type": "stream",
     "text": [
      "size (6, 5)\n",
      "len name 5\n",
      "len movies 6\n",
      "i 0\n",
      "j 0\n",
      "j 1\n",
      "j 2\n",
      "j 3\n",
      "j 4\n",
      "4\n",
      "i 1\n",
      "j 0\n",
      "j 1\n",
      "j 2\n",
      "j 3\n",
      "j 4\n",
      "2\n",
      "i 2\n",
      "j 0\n",
      "j 1\n",
      "j 2\n",
      "j 3\n",
      "j 4\n",
      "2\n",
      "i 3\n",
      "j 0\n",
      "j 1\n",
      "j 2\n",
      "j 3\n",
      "j 4\n",
      "4\n",
      "i 4\n",
      "j 0\n",
      "j 1\n",
      "j 2\n",
      "j 3\n",
      "j 4\n",
      "3\n",
      "i 5\n",
      "j 0\n",
      "j 1\n",
      "j 2\n",
      "j 3\n",
      "j 4\n",
      "1\n",
      "[[ 2.5       ]\n",
      " [ 2.5       ]\n",
      " [ 2.        ]\n",
      " [ 2.25      ]\n",
      " [ 1.66666667]\n",
      " [ 1.        ]]\n"
     ]
    }
   ],
   "source": [
    "# init the average matrix\n",
    "average = np.zeros((len(movies),1))\n",
    "print \"size\",has_rating.T.shape\n",
    "# find average value for each row \n",
    "print \"len name\",len(names)\n",
    "print \"len movies\",len(movies)\n",
    "for i in range (0,len(movies)):\n",
    "    print \"i\", i \n",
    "    sum_each_row = 0\n",
    "    count_num = 0\n",
    "    for j in range (0,len(names)):\n",
    "        print \"j\", j\n",
    "        if has_rating.T[i][j] == 1:\n",
    "            sum_each_row = sum_each_row + rating.T[i][j]\n",
    "            count_num = count_num+1\n",
    "    print count_num\n",
    "    average[i][0] = sum_each_row/count_num\n",
    "    \n",
    "print average"
   ]
  },
  {
   "cell_type": "markdown",
   "metadata": {},
   "source": [
    "# running data after Implementation of Detail Mean Normalization\n",
    "- on the section below here we re-run our main again with the new rating matrix  "
   ]
  },
  {
   "cell_type": "code",
   "execution_count": 23,
   "metadata": {
    "collapsed": false
   },
   "outputs": [
    {
     "name": "stdout",
     "output_type": "stream",
     "text": [
      "original rating [[ 5.  5.  0.  0.  0.]\n",
      " [ 5.  0.  0.  0.  0.]\n",
      " [ 0.  4.  0.  0.  0.]\n",
      " [ 0.  0.  5.  4.  0.]\n",
      " [ 0.  0.  5.  0.  0.]\n",
      " [ 0.  0.  0.  0.  1.]]\n",
      "rating after DMN [[ 2.5         2.5        -2.5        -2.5         0.        ]\n",
      " [ 2.5         0.          0.         -2.5         0.        ]\n",
      " [ 0.          2.         -2.          0.          0.        ]\n",
      " [-2.25       -2.25        2.75        1.75        0.        ]\n",
      " [-1.66666667 -1.66666667  3.33333333  0.          0.        ]\n",
      " [ 0.          0.          0.          0.          0.        ]]\n"
     ]
    }
   ],
   "source": [
    "print \"original rating\",rating.T\n",
    "# re-init value for rating matrix\n",
    "for i in range (0,len(movies)):\n",
    "    for j in range (0,len(names)):\n",
    "        if has_rating.T[i][j] == 1:\n",
    "            rating.T[i][j] = rating.T[i][j] - average[i]\n",
    "print \"rating after DMN\",rating.T "
   ]
  },
  {
   "cell_type": "markdown",
   "metadata": {},
   "source": [
    "## Getting the best weight\n",
    "- start Linear Regression class below here "
   ]
  },
  {
   "cell_type": "code",
   "execution_count": 24,
   "metadata": {
    "collapsed": false,
    "scrolled": true
   },
   "outputs": [
    {
     "name": "stdout",
     "output_type": "stream",
     "text": [
      "[[-0.14926402  0.91407401]\n",
      " [-0.14904215  0.912724  ]\n",
      " [ 0.16456703 -1.01100707]\n",
      " [ 0.10035365 -0.95699568]\n",
      " [-0.00187237  0.0028306 ]]\n",
      "[[ -4.03939605e-01   2.56333282e+00]\n",
      " [ -2.16533180e+00   2.38319374e+00]\n",
      " [ -4.44650771e+02  -7.04077268e+01]\n",
      " [  1.25539593e+01  -5.13223416e-01]\n",
      " [ -2.82746990e+03  -4.63536460e+02]\n",
      " [ -1.35929226e+02  -8.99609846e+01]]\n",
      "output [[   4.    4.    0.    0.    2.]\n",
      " [   4.    4.    0.    0.    2.]\n",
      " [   4.    4.    1.   24.    2.]\n",
      " [   0.    0.    4.    3.    2.]\n",
      " [   0.    0.    4.  160.    4.]\n",
      " [ -60.  -60.   69.   73.    1.]]\n"
     ]
    }
   ],
   "source": [
    "class LinearRegression: \n",
    "    \n",
    "    # init all the data so it can easily accessed by all methods\n",
    "    def __init__(self,has_rating,real_rating,fea,lamda,names,movies):\n",
    "        #has_rating and real_rating here are already transposed\n",
    "        self.has_rating = has_rating\n",
    "        self.fea=fea\n",
    "        self.real_rating = real_rating\n",
    "        self.lamda=lamda\n",
    "        self.names = names\n",
    "        self.movies = movies\n",
    "        self.num_names = len(names)\n",
    "        self.num_movies = len(movies) \n",
    "        \n",
    "    \n",
    "    # cost function use for minimizing  \n",
    "    def cost_finction(self,w):\n",
    "        \n",
    "        # 1/2 constant\n",
    "        con=float(1)/2\n",
    "        w = w.reshape(self.num_names+self.num_movies,self.fea)\n",
    "                \n",
    "        # set of all guessing theta values \n",
    "        theta = w[0:self.num_names][0:]\n",
    "       \n",
    "        # set of all guessing x values\n",
    "        x = w[self.num_names:self.num_names+self.num_movies][0:]\n",
    "        \n",
    "        # 3 summation variables in the equation   \n",
    "        sum_linear = 0\n",
    "        sum_theta = 0\n",
    "        sum_x = 0\n",
    "\n",
    "        # below here we will sum over all pairs (i,j) for which has_rating(i,j) == 1 \n",
    "        for i in range(0,self.num_movies):\n",
    "            for j in range(0,self.num_names):\n",
    "                if self.has_rating[i][j] == 1:\n",
    "                    sum_linear = sum_linear + ((np.dot(theta[j].T,x[i]))-self.real_rating[i,j])**2 \n",
    "                    \n",
    "        # below here we will sum over the nomalization terms for x(k)\n",
    "        for i in range(0,self.num_movies):\n",
    "            for k in range (0,self.fea):\n",
    "                sum_x = sum_x + (w[i][k]**2)\n",
    "        \n",
    "        # below here we will sum over the nomalization terms for theta(k)\n",
    "        for i in range(0,self.num_names):\n",
    "            for k in range (0,self.fea):\n",
    "                sum_theta = sum_theta + (theta[i][k]**2)  \n",
    "        \n",
    "        return con*sum_linear+((float(self.lamda)/2)*sum_x)+((float(self.lamda)/2)*sum_theta)\n",
    "\n",
    "# these two variable can be change \n",
    "number_feature = 2\n",
    "lamda = 0.01\n",
    "\n",
    "linear_obj = LinearRegression(has_rating.T,rating.T,number_feature,lamda,names,movies)\n",
    "\n",
    "# initialize random value range 0-5 (user preference rate, theta) to a two-d array \n",
    "guess_theta = np.random.uniform(0.1,1,[len(names),number_feature])\n",
    "#print guess_theta\n",
    "\n",
    "# initialize random value range 0-1 (movie characteristic rate) to a two-d array \n",
    "guess_x = np.random.uniform(0.1,1,[len(movies),number_feature])\n",
    "#print guess_x\n",
    "\n",
    "# concatinate guess_theta and guess_x so it can be pass together to the minimize function\n",
    "weight_value = np.concatenate((guess_theta,guess_x),axis=0)\n",
    "#print weight_value\n",
    "\n",
    "# looking for the weight that will  give the dot product closest to the real value\n",
    "minimize_weight = minimize(linear_obj.cost_finction,weight_value)\n",
    "result_w = minimize_weight.x.reshape(len(names)+len(movies),2)\n",
    "\n",
    "# separate final theta and x from the final w\n",
    "result_theta = result_w[0:len(names)][0:]\n",
    "print result_theta\n",
    "result_x = result_w[len(names):len(names)+len(movies)][0:]\n",
    "print result_x\n",
    "\n",
    "# setting up output array\n",
    "out = np.zeros((len(movies),len(names)))\n",
    "for i in range(0,len(movies)):\n",
    "            for j in range(0,len(names)):\n",
    "                    out[i][j] = int(np.dot(result_theta[j].T,result_x[i]))+int(average[i])\n",
    "print \"output\",out"
   ]
  },
  {
   "cell_type": "code",
   "execution_count": null,
   "metadata": {
    "collapsed": true
   },
   "outputs": [],
   "source": []
  },
  {
   "cell_type": "code",
   "execution_count": null,
   "metadata": {
    "collapsed": true
   },
   "outputs": [],
   "source": []
  }
 ],
 "metadata": {
  "kernelspec": {
   "display_name": "Python 2",
   "language": "python",
   "name": "python2"
  },
  "language_info": {
   "codemirror_mode": {
    "name": "ipython",
    "version": 2
   },
   "file_extension": ".py",
   "mimetype": "text/x-python",
   "name": "python",
   "nbconvert_exporter": "python",
   "pygments_lexer": "ipython2",
   "version": "2.7.10"
  }
 },
 "nbformat": 4,
 "nbformat_minor": 0
}
