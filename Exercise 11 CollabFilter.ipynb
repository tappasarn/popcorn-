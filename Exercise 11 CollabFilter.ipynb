{
 "cells": [
  {
   "cell_type": "code",
   "execution_count": 1,
   "metadata": {
    "collapsed": true
   },
   "outputs": [],
   "source": [
    "%matplotlib inline\n",
    "import numpy as np\n",
    "from matplotlib import pyplot as plt"
   ]
  },
  {
   "cell_type": "markdown",
   "metadata": {},
   "source": [
    "#Pre Exercise\n",
    "This exercise is optional. You only have to hand in 10 exercises. If you hand in this one you may skip one of the earlier one.\n",
    "\n",
    "In the google doc sheet we have 41 restaurant and 44 people. There are about 1000 rating in total. We want to do collaborative filtering with 7 hidden features.\n",
    "\n",
    "https://docs.google.com/spreadsheets/d/143AcuFLKRLkz7yoKiEas0rABfuKPYCSlVKY1DUbFiBo/edit#gid=0"
   ]
  },
  {
   "cell_type": "markdown",
   "metadata": {},
   "source": [
    "1) What is the size of matrix F (*foodplace*)?"
   ]
  },
  {
   "cell_type": "code",
   "execution_count": 2,
   "metadata": {
    "collapsed": false
   },
   "outputs": [
    {
     "ename": "SyntaxError",
     "evalue": "invalid syntax (<ipython-input-2-de591cb85bf6>, line 1)",
     "output_type": "error",
     "traceback": [
      "\u001b[1;36m  File \u001b[1;32m\"<ipython-input-2-de591cb85bf6>\"\u001b[1;36m, line \u001b[1;32m1\u001b[0m\n\u001b[1;33m    |\u001b[0m\n\u001b[1;37m    ^\u001b[0m\n\u001b[1;31mSyntaxError\u001b[0m\u001b[1;31m:\u001b[0m invalid syntax\n"
     ]
    }
   ],
   "source": [
    "|\n",
    "V Restaurent[        ]\n",
    "        ->feature\n",
    "(41,7)"
   ]
  },
  {
   "cell_type": "markdown",
   "metadata": {},
   "source": [
    "2) What is the size of matrix P?"
   ]
  },
  {
   "cell_type": "markdown",
   "metadata": {},
   "source": [
    "|\n",
    "V people[        ]\n",
    "        ->feature\n",
    "(44,7)"
   ]
  },
  {
   "cell_type": "markdown",
   "metadata": {},
   "source": [
    "3) What should be the dimension of the Guess G? Write a numpy statement to calculate the Guess$G$ from $F$ and $P$."
   ]
  },
  {
   "cell_type": "code",
   "execution_count": null,
   "metadata": {
    "collapsed": true
   },
   "outputs": [],
   "source": [
    "Guess\n",
    "G(people, restaurant)\n",
    " = P•F.T\n",
    "=[  f1p1   f2p1     ]\n",
    "    f1p2   f2p2\n",
    "    f1p3   f3p3\n",
    "    f1p4\n",
    "\n"
   ]
  },
  {
   "cell_type": "markdown",
   "metadata": {},
   "source": [
    "This code will help you do pre exercise. Try print names, restaurants, has_rating, rating to see what they are. rating and has_rating matrix use the convention that row=People, column=restaurant."
   ]
  },
  {
   "cell_type": "markdown",
   "metadata": {},
   "source": [
    "#ALL you need to do\n",
    "let's say you given rating\n",
    "- random P,F\n",
    "- do it many times:\n",
    "    - G\n",
    "    - HGR\n",
    "    - dp = HGR•F\n",
    "    - df = HGR.T•P\n",
    "    - P = P-eta x dP\n",
    "    - F = F-eta x dF"
   ]
  },
  {
   "cell_type": "code",
   "execution_count": null,
   "metadata": {
    "collapsed": true
   },
   "outputs": [],
   "source": [
    "import StringIO\n",
    "import csv\n",
    "with open('rating.csv') as f:\n",
    "    s = StringIO.StringIO(f.read()) \n",
    "    reader = csv.reader(s, delimiter=',')\n",
    "    raw = [row for row in reader]\n",
    "\n",
    "def get_names(raw):\n",
    "    return raw[2][2:]\n",
    "\n",
    "def get_restaurant(raw):\n",
    "    restaurants = []\n",
    "    for i in range(3, len(raw)):\n",
    "        restaurants.append(raw[i][1])\n",
    "    return restaurants\n",
    "\n",
    "def get_rating(raw):\n",
    "    \n",
    "    names = get_names(raw)\n",
    "    restaurants = get_restaurant(raw)\n",
    "    #print restaurants\n",
    "    name_offset = 2\n",
    "    rests_offset = 3\n",
    "    \n",
    "    n_names = len(names)\n",
    "    n_rests = len(restaurants)\n",
    "\n",
    "    has_rating = np.zeros((n_names, n_rests))\n",
    "    rating = np.zeros((n_names, n_rests))\n",
    "    \n",
    "    for ir in range(n_rests):\n",
    "        this_row = raw[rests_offset + ir]\n",
    "        #print ir, n_rests, len(raw), this_row[1]\n",
    "        #print this_row\n",
    "        for ip in range(n_names):\n",
    "            #print ip, name_offset, len(this_row)\n",
    "            this_cell =  this_row[name_offset + ip]\n",
    "            hr = this_cell.isdigit()\n",
    "            has_rating[ip, ir] = 1 if hr else 0\n",
    "            if hr:\n",
    "                rating[ip, ir] = int(this_cell)\n",
    "    return names, restaurants, has_rating, rating\n",
    "\n",
    "names, restaurants, has_rating, rating = get_rating(raw)\n",
    "print \"name\", names\n",
    "print \"restaurants\", restaurants\n",
    "print \"has_rating\", has_rating\n",
    "print \"rating\", rating\n",
    "\n",
    "plt.matshow(rating, vmin=0, vmax=5)"
   ]
  },
  {
   "cell_type": "markdown",
   "metadata": {},
   "source": [
    "4) What is the dimension of rating matrix? AFTER you figure out, check it with rating.shape."
   ]
  },
  {
   "cell_type": "code",
   "execution_count": null,
   "metadata": {
    "collapsed": true
   },
   "outputs": [],
   "source": [
    "should be like (44,41)"
   ]
  },
  {
   "cell_type": "code",
   "execution_count": null,
   "metadata": {
    "collapsed": true
   },
   "outputs": [],
   "source": [
    "print rating.shape[0], rating.shape[1]"
   ]
  },
  {
   "cell_type": "markdown",
   "metadata": {},
   "source": [
    "5) What is the dimension of has_rating matrix? AFTER you figure out, check it with rating.shape."
   ]
  },
  {
   "cell_type": "code",
   "execution_count": null,
   "metadata": {
    "collapsed": true
   },
   "outputs": [],
   "source": [
    "#44, 41\n",
    "print has_rating.shape[0], has_rating.shape[1]"
   ]
  },
  {
   "cell_type": "markdown",
   "metadata": {},
   "source": [
    "6) Suppose you have a guess matrix G. How do you calculate HGR matrix? Write a numpy code for that"
   ]
  },
  {
   "cell_type": "code",
   "execution_count": null,
   "metadata": {
    "collapsed": true
   },
   "outputs": [],
   "source": [
    "HGR = np.multiply(H, np.subtract(G,R))"
   ]
  },
  {
   "cell_type": "markdown",
   "metadata": {},
   "source": [
    "7)The update rule for $P$ is\n",
    "\n",
    "\n",
    "$P = P - \\eta\\; dp$\n",
    "\n",
    "Write down the formula for dp. Then, write a numpy code to calculate dp."
   ]
  },
  {
   "cell_type": "code",
   "execution_count": null,
   "metadata": {
    "collapsed": true
   },
   "outputs": [],
   "source": [
    "new_P = np.subtract(P, 2*eta*np.dot(HGR, F))"
   ]
  },
  {
   "cell_type": "markdown",
   "metadata": {},
   "source": [
    "8)The update rule for $F$ is\n",
    "\n",
    "$F = F - \\eta\\; df$\n",
    "\n",
    "Write down the formula for df. Then, write a numpy code to calculate df."
   ]
  },
  {
   "cell_type": "code",
   "execution_count": null,
   "metadata": {
    "collapsed": true
   },
   "outputs": [],
   "source": [
    "new_P = np.subtract(F, 2*eta*np.dot(HGR.T, P))"
   ]
  },
  {
   "cell_type": "markdown",
   "metadata": {},
   "source": [
    "9) Write the numpy code to calculate the cost. (you may find np.sum useful)"
   ]
  },
  {
   "cell_type": "code",
   "execution_count": null,
   "metadata": {
    "collapsed": true
   },
   "outputs": [],
   "source": [
    "np.sum(np.sum(np.multiply(H, np.subtract(G,R)**2), axis = 0), axis = 0)"
   ]
  },
  {
   "cell_type": "markdown",
   "metadata": {},
   "source": [
    "#Exercise\n",
    "You have given CSV file for all the rating. Now your job is to figure out what is the next restaurant you should go next using collaborative filtering with gradient descent.\n",
    "\n",
    "The idea is to keep update matrix F and P with the update rule we find above many many times.\n",
    "\n",
    "Debugging this is quite a pain. One way to do it is to monitor the value of the costfunction making sure it is going in the right direction.\n",
    "\n",
    "If you are doing it right this should not be more than 50 lines."
   ]
  },
  {
   "cell_type": "code",
   "execution_count": null,
   "metadata": {
    "collapsed": true
   },
   "outputs": [],
   "source": [
    "print rating.shape\n",
    "\n",
    "print 41*44"
   ]
  },
  {
   "cell_type": "code",
   "execution_count": null,
   "metadata": {
    "collapsed": true
   },
   "outputs": [],
   "source": [
    "# names, restaurants, has_rating, rating\n",
    "from scipy.optimize import minimize\n",
    "\n",
    "P = np.random.rand(44,7)\n",
    "F = np.random.rand(41,7)\n",
    "G = np.dot(P,F.T)\n",
    "\n",
    "def cost(G):\n",
    "    G = G.reshape(44,41)\n",
    "    return np.sum(np.sum(np.multiply(has_rating, np.subtract(G,rating)**2), axis = 0), axis = 0)\n",
    "\n",
    "print \"GSHAPE\",G.shape\n",
    "ret = minimize(cost, x0 = G).x\n",
    "ret = ret.reshape(44,41)\n",
    "\n",
    "plt.matshow(ret*has_rating, vmin=0, vmax=5)\n"
   ]
  },
  {
   "cell_type": "code",
   "execution_count": null,
   "metadata": {
    "collapsed": true
   },
   "outputs": [],
   "source": [
    "for i in range(0,5):\n",
    "    new_P = P-2*0.05*np.dot(np.multiply(has_rating, np.subtract(ret,rating))**2, F)\n",
    "\n",
    "    new_F = F-2*0.05*np.dot((np.multiply(has_rating, np.subtract(ret,rating))**2).T, P)\n",
    "\n",
    "    new_G = np.dot(new_P,new_F.T)\n",
    "    ret = minimize(cost, x0 = new_G).x\n",
    "    ret = ret.reshape(44,41)\n",
    "    F=new_F\n",
    "    P=new_P\n",
    "    print ret\n",
    "# plt.matshow(rating, vmin=0,vmax=5)\n",
    "# plt.figure()\n",
    "# plt.matshow(ret, vmin=0, vmax=5)"
   ]
  },
  {
   "cell_type": "code",
   "execution_count": null,
   "metadata": {
    "collapsed": false
   },
   "outputs": [],
   "source": [
    "HTML(maketable(rating, has_rating, ret, restaurants, names))"
   ]
  },
  {
   "cell_type": "code",
   "execution_count": null,
   "metadata": {
    "collapsed": true
   },
   "outputs": [],
   "source": [
    "plt.matshow(rating, vmin=0, vmax=5)\n",
    "plt.figure()\n",
    "plt.matshow(ret, vmin=0, vmax=5)\n"
   ]
  },
  {
   "cell_type": "markdown",
   "metadata": {},
   "source": [
    "#Debugging Tip\n",
    "To compare your guess rating(G*has_rating) and the actual rating graphically use\n",
    "\n",
    "plt.matshow(rating, vmin=0, vmax=5)\n",
    "\n",
    " if they look almost the same then your algorithm is doing the right thing "
   ]
  },
  {
   "cell_type": "code",
   "execution_count": null,
   "metadata": {
    "collapsed": true
   },
   "outputs": [],
   "source": [
    "#  plt.matshow(rating, vmin=0, vmax=5)\n",
    "#  plt.figure()\n",
    "# plt.matshow(G*has_rating, vmin=0, vmax=5)"
   ]
  },
  {
   "cell_type": "markdown",
   "metadata": {},
   "source": [
    "#Once you have F and P and guess matrix.\n",
    "I wrote this so that visualizing your result is easier."
   ]
  },
  {
   "cell_type": "code",
   "execution_count": null,
   "metadata": {
    "collapsed": true
   },
   "outputs": [],
   "source": [
    "from IPython.display import HTML\n",
    "\n",
    "class TableCell:\n",
    "    \n",
    "    def __init__(self, text, tc=None, color=None):\n",
    "        self.text = text\n",
    "        self.tc = tc\n",
    "        self.color = color\n",
    "    \n",
    "    def to_html(self):\n",
    "        return '<td>%s</td>'%self.text\n",
    "    \n",
    "def maketable(rating, has_rating, guess, restaurants, names):\n",
    "    n_rests = len(restaurants)\n",
    "    n_names = len(names)\n",
    "    tab = np.empty((n_rests+1, n_names+1),dtype='object')\n",
    "    #print tab.shape\n",
    "\n",
    "    for irest in range(n_rests):\n",
    "        tab[irest+1,0] = restaurants[irest]\n",
    "\n",
    "    for iname in range(n_names):\n",
    "        tab[0,iname+1] = names[iname]\n",
    "\n",
    "    for irest in range(n_rests):\n",
    "        for iname in range(n_names):\n",
    "            if not has_rating[iname, irest]:\n",
    "                tab[irest+1, iname+1] = TableCell('<span style=\"color:red\">%3.2f</span>'%(guess[iname, irest]))\n",
    "            else:\n",
    "                tab[irest+1, iname+1] = TableCell('<span style=\"color:blue\">%3.2f</span><span style=\"color:red\">(%3.2f)</span>'%(rating[iname, irest], guess[iname, irest]))\n",
    "    #now convert tab array to nice html table\n",
    "    nrow, ncol = tab.shape\n",
    "    t = []\n",
    "    t.append('<table>')\n",
    "    for irow in range(nrow):\n",
    "        t.append('<tr>')\n",
    "        for icol in range(ncol):\n",
    "            cell = tab[irow,icol]\n",
    "            if cell is not None:\n",
    "                if isinstance(cell,TableCell):\n",
    "                    t.append(tab[irow, icol].to_html())\n",
    "                else:\n",
    "                    t.append('<td>')\n",
    "                    t.append(tab[irow, icol])\n",
    "                    t.append('</td>')\n",
    "            else:\n",
    "                t.append('<td></td>')\n",
    "        t.append('</tr>')  \n",
    "    t.append('</table>')\n",
    "    return '\\n'.join(t)"
   ]
  },
  {
   "cell_type": "code",
   "execution_count": null,
   "metadata": {
    "collapsed": false
   },
   "outputs": [],
   "source": [
    "# call it like this\n",
    "\n",
    "HTML(maketable(rating, has_rating, G, restaurants, names))"
   ]
  },
  {
   "cell_type": "code",
   "execution_count": null,
   "metadata": {
    "collapsed": true
   },
   "outputs": [],
   "source": []
  }
 ],
 "metadata": {
  "kernelspec": {
   "display_name": "Python 2",
   "language": "python",
   "name": "python2"
  },
  "language_info": {
   "codemirror_mode": {
    "name": "ipython",
    "version": 2
   },
   "file_extension": ".py",
   "mimetype": "text/x-python",
   "name": "python",
   "nbconvert_exporter": "python",
   "pygments_lexer": "ipython2",
   "version": "2.7.10"
  }
 },
 "nbformat": 4,
 "nbformat_minor": 0
}
